{
 "cells": [
  {
   "cell_type": "code",
   "execution_count": 1,
   "metadata": {},
   "outputs": [],
   "source": [
    "from backend import *\n",
    "from manipulateData import *\n",
    "import pandas as pd"
   ]
  },
  {
   "cell_type": "code",
   "execution_count": 2,
   "metadata": {},
   "outputs": [],
   "source": [
    "config_data = backend.load_data(r\"config.json\")\n",
    "data = backend.load_data(r\"data_update.json\")"
   ]
  },
  {
   "cell_type": "code",
   "execution_count": 3,
   "metadata": {},
   "outputs": [],
   "source": [
    "file_one = \"..\\data\\RAW_8AgenciesCombined_2NDCohort.xlsx\"\n",
    "file_two = \"..\\data\\RAW_9th District Court Service Unit.xlsx\""
   ]
  },
  {
   "cell_type": "code",
   "execution_count": 4,
   "metadata": {},
   "outputs": [],
   "source": [
    "file = \"..\\data\\RAW_WJCC Juvenile and Domestic Relations District Court.xlsx\""
   ]
  },
  {
   "cell_type": "code",
   "execution_count": 5,
   "metadata": {},
   "outputs": [],
   "source": [
    "df = pd.read_excel(file)"
   ]
  },
  {
   "cell_type": "code",
   "execution_count": 6,
   "metadata": {},
   "outputs": [
    {
     "name": "stdout",
     "output_type": "stream",
     "text": [
      "Manipulating data...\n",
      "Unnecessary columns are removed.\n",
      "Agency columns are renamed.\n",
      "Unnamed columns are renamed.\n",
      "Renamed long columns\n",
      "Removed all-nan value columns.\n",
      "Checking any comments columns were removed...\n",
      "No comment columns were removed\n",
      "3E Restoration\n",
      "9th District Court Services Unit\n",
      "Advancing Community Excellence\n",
      "American Addiction Treatment Center\n",
      "Avalon Center\n",
      "Bacon Street Youth & Family Services\n",
      "Center for Child and Family Services\n",
      "Child Development Resources\n",
      "Colonial Behavioral Health\n",
      "Colonial CASA\n",
      "Dream Catchers\n",
      "EVA Homebirth, LLC\n",
      "Family Matters Services, LLC\n",
      "Free Spirit Counseling\n",
      "Grove Christian Outreach Center\n",
      "Heat Foundation\n",
      "James City County Colonial Community Corrections\n",
      "James City County Dept. of Social Services\n",
      "James City County Fire Department/EMS\n",
      "James City County Police Department\n",
      "Lackey Clinic\n",
      "Peace 'in' It Counseling\n",
      "Peninsula Agency on Aging\n",
      "Peninsula Health District\n",
      "Poquoson City Schools\n",
      "Riverside Doctor's Hospital Williamsburg\n",
      "Sentara Williamsburg Regional Medical Center\n",
      "SpiritWorks Foundation\n",
      "Tag Consulting. LLC\n",
      "The Healing Project\n",
      "The Salvation Army\n",
      "United Way of the Virginia Peninsula\n",
      "Williamsburg Community Foundation\n",
      "Williamsburg Christian Church\n",
      "Williamsburg Dept. of Human Services\n",
      "Williamsburg Health Foundation\n",
      "Williamsburg House of Mercy\n",
      "Williamsburg-James City County Schools\n",
      "Williamsburg Police Department\n",
      "York County Community Services\n",
      "York County Juvenile Services\n",
      "York County School District\n",
      "Combined all agency columns into one.\n",
      "Combined the same name columns\n"
     ]
    }
   ],
   "source": [
    "trans_df = backend.transform_df(df, data)"
   ]
  },
  {
   "cell_type": "code",
   "execution_count": 7,
   "metadata": {},
   "outputs": [
    {
     "data": {
      "text/html": [
       "<div>\n",
       "<style scoped>\n",
       "    .dataframe tbody tr th:only-of-type {\n",
       "        vertical-align: middle;\n",
       "    }\n",
       "\n",
       "    .dataframe tbody tr th {\n",
       "        vertical-align: top;\n",
       "    }\n",
       "\n",
       "    .dataframe thead th {\n",
       "        text-align: right;\n",
       "    }\n",
       "</style>\n",
       "<table border=\"1\" class=\"dataframe\">\n",
       "  <thead>\n",
       "    <tr style=\"text-align: right;\">\n",
       "      <th></th>\n",
       "      <th>Respondent ID</th>\n",
       "      <th>Collector ID</th>\n",
       "      <th>IP Address</th>\n",
       "      <th>Start Date</th>\n",
       "      <th>End Date</th>\n",
       "      <th>Agency</th>\n",
       "      <th>Department/Program/Unit</th>\n",
       "      <th>Agency guiding principles and strategic plans (vision, mission and goals) reflect a commitment to providing trauma-informed services and supports.</th>\n",
       "      <th>The program has written policies that are supportive of trauma informed approaches and demonstrate a commitment and respect for cultural differences.</th>\n",
       "      <th>Agency leadership understand the value and have specific training and background in trauma informed care.</th>\n",
       "      <th>...</th>\n",
       "      <th>Staff demonstrate open and respectful communication with all service recipients by: Including the service recipient in all aspects of decision making.</th>\n",
       "      <th>Staff demonstrate open and respectful communication with all service recipients by: Using open-ended questions, affirmations, reflective listening.</th>\n",
       "      <th>Staff demonstrate open and respectful communication with all service recipients by: Informing service recipients of processes and procedures so that they can anticipate and be prepared for services.</th>\n",
       "      <th>Comment 7</th>\n",
       "      <th>Staff show acceptance of cultural, ethnic, religious, linguistic and other differences.</th>\n",
       "      <th>Comment 8</th>\n",
       "      <th>Staff prioritize consumer safety to avoid re-traumatization and support resilience.</th>\n",
       "      <th>Reassessment of consumer needs is done on an on-going and individualized basis.</th>\n",
       "      <th>The agency has the capacity to provide or make a timely referral to a continuum of trauma informed services and supports.</th>\n",
       "      <th>Comment 9</th>\n",
       "    </tr>\n",
       "  </thead>\n",
       "  <tbody>\n",
       "    <tr>\n",
       "      <th>0</th>\n",
       "      <td>114450159225</td>\n",
       "      <td>428017376</td>\n",
       "      <td>72.218.86.225</td>\n",
       "      <td>2023-10-30 20:58:11</td>\n",
       "      <td>2023-10-30 21:18:52</td>\n",
       "      <td>WJCC Juvenile and Domestic Relations District ...</td>\n",
       "      <td></td>\n",
       "      <td>Moderately</td>\n",
       "      <td>Moderately</td>\n",
       "      <td>Moderately</td>\n",
       "      <td>...</td>\n",
       "      <td>Moderately</td>\n",
       "      <td>Significantly</td>\n",
       "      <td>Fully</td>\n",
       "      <td></td>\n",
       "      <td>Significantly</td>\n",
       "      <td></td>\n",
       "      <td>Significantly</td>\n",
       "      <td>Significantly</td>\n",
       "      <td>Significantly</td>\n",
       "      <td></td>\n",
       "    </tr>\n",
       "  </tbody>\n",
       "</table>\n",
       "<p>1 rows × 47 columns</p>\n",
       "</div>"
      ],
      "text/plain": [
       "  Respondent ID  Collector ID     IP Address          Start Date  \\\n",
       "0  114450159225     428017376  72.218.86.225 2023-10-30 20:58:11   \n",
       "\n",
       "             End Date                                             Agency  \\\n",
       "0 2023-10-30 21:18:52  WJCC Juvenile and Domestic Relations District ...   \n",
       "\n",
       "  Department/Program/Unit  \\\n",
       "0                           \n",
       "\n",
       "  Agency guiding principles and strategic plans (vision, mission and goals) reflect a commitment to providing trauma-informed services and supports.  \\\n",
       "0                                         Moderately                                                                                                   \n",
       "\n",
       "  The program has written policies that are supportive of trauma informed approaches and demonstrate a commitment and respect for cultural differences.  \\\n",
       "0                                         Moderately                                                                                                      \n",
       "\n",
       "  Agency leadership understand the value and have specific training and background in trauma informed care.  \\\n",
       "0                                         Moderately                                                          \n",
       "\n",
       "   ...  \\\n",
       "0  ...   \n",
       "\n",
       "  Staff demonstrate open and respectful communication with all service recipients by: Including the service recipient in all aspects of decision making.  \\\n",
       "0                                         Moderately                                                                                                       \n",
       "\n",
       "  Staff demonstrate open and respectful communication with all service recipients by: Using open-ended questions, affirmations, reflective listening.  \\\n",
       "0                                      Significantly                                                                                                    \n",
       "\n",
       "  Staff demonstrate open and respectful communication with all service recipients by: Informing service recipients of processes and procedures so that they can anticipate and be prepared for services.  \\\n",
       "0                                              Fully                                                                                                                                                       \n",
       "\n",
       "  Comment 7  \\\n",
       "0             \n",
       "\n",
       "  Staff show acceptance of cultural, ethnic, religious, linguistic and other differences.  \\\n",
       "0                                      Significantly                                        \n",
       "\n",
       "  Comment 8  \\\n",
       "0             \n",
       "\n",
       "  Staff prioritize consumer safety to avoid re-traumatization and support resilience.  \\\n",
       "0                                      Significantly                                    \n",
       "\n",
       "  Reassessment of consumer needs is done on an on-going and individualized basis.  \\\n",
       "0                                      Significantly                                \n",
       "\n",
       "  The agency has the capacity to provide or make a timely referral to a continuum of trauma informed services and supports.  \\\n",
       "0                                      Significantly                                                                          \n",
       "\n",
       "  Comment 9  \n",
       "0            \n",
       "\n",
       "[1 rows x 47 columns]"
      ]
     },
     "execution_count": 7,
     "metadata": {},
     "output_type": "execute_result"
    }
   ],
   "source": [
    "trans_df.head(1)"
   ]
  },
  {
   "cell_type": "code",
   "execution_count": 8,
   "metadata": {},
   "outputs": [],
   "source": [
    "tmp_df = manipulateData.get_tmp_df(trans_df, data, \"Policy Review/Governance and Leadership\")"
   ]
  },
  {
   "cell_type": "code",
   "execution_count": 9,
   "metadata": {},
   "outputs": [
    {
     "name": "stdout",
     "output_type": "stream",
     "text": [
      "[['Agency guiding principles and strategic plans (vision, mission and goals) reflect a commitment to providing trauma-informed services and supports.', 0, 0, 0, 2, 1, 3], ['The program has written policies that are supportive of trauma informed approaches and demonstrate a commitment and respect for cultural differences.', 0, 0, 0, 3, 0, 3], ['Agency leadership understand the value and have specific training and background in trauma informed care.', 1, 1, 0, 2, 0, 2], ['Agency leaders discuss trauma-informed care in internal agency meetings and in public forums.', 1, 0, 3, 0, 0, 2]]\n",
      "7\n"
     ]
    }
   ],
   "source": [
    "question_df = manipulateData.get_question_df(data, data[\"question_columns\"], tmp_df, \"Policy Review/Governance and Leadership\")"
   ]
  },
  {
   "cell_type": "code",
   "execution_count": 19,
   "metadata": {},
   "outputs": [
    {
     "data": {
      "text/html": [
       "<div>\n",
       "<style scoped>\n",
       "    .dataframe tbody tr th:only-of-type {\n",
       "        vertical-align: middle;\n",
       "    }\n",
       "\n",
       "    .dataframe tbody tr th {\n",
       "        vertical-align: top;\n",
       "    }\n",
       "\n",
       "    .dataframe thead th {\n",
       "        text-align: right;\n",
       "    }\n",
       "</style>\n",
       "<table border=\"1\" class=\"dataframe\">\n",
       "  <thead>\n",
       "    <tr style=\"text-align: right;\">\n",
       "      <th></th>\n",
       "      <th>Questions</th>\n",
       "      <th>Do Not Know</th>\n",
       "      <th>Fully</th>\n",
       "      <th>Minimally</th>\n",
       "      <th>Moderately</th>\n",
       "      <th>N/A to My Role</th>\n",
       "      <th>Significantly</th>\n",
       "    </tr>\n",
       "  </thead>\n",
       "  <tbody>\n",
       "    <tr>\n",
       "      <th>0</th>\n",
       "      <td>Agency guiding principles and strategic plans ...</td>\n",
       "      <td>0</td>\n",
       "      <td>0</td>\n",
       "      <td>0</td>\n",
       "      <td>2</td>\n",
       "      <td>1</td>\n",
       "      <td>3</td>\n",
       "    </tr>\n",
       "    <tr>\n",
       "      <th>1</th>\n",
       "      <td>The program has written policies that are supp...</td>\n",
       "      <td>0</td>\n",
       "      <td>0</td>\n",
       "      <td>0</td>\n",
       "      <td>3</td>\n",
       "      <td>0</td>\n",
       "      <td>3</td>\n",
       "    </tr>\n",
       "    <tr>\n",
       "      <th>2</th>\n",
       "      <td>Agency leadership understand the value and hav...</td>\n",
       "      <td>1</td>\n",
       "      <td>1</td>\n",
       "      <td>0</td>\n",
       "      <td>2</td>\n",
       "      <td>0</td>\n",
       "      <td>2</td>\n",
       "    </tr>\n",
       "    <tr>\n",
       "      <th>3</th>\n",
       "      <td>Agency leaders discuss trauma-informed care in...</td>\n",
       "      <td>1</td>\n",
       "      <td>0</td>\n",
       "      <td>3</td>\n",
       "      <td>0</td>\n",
       "      <td>0</td>\n",
       "      <td>2</td>\n",
       "    </tr>\n",
       "  </tbody>\n",
       "</table>\n",
       "</div>"
      ],
      "text/plain": [
       "                                           Questions  Do Not Know  Fully  \\\n",
       "0  Agency guiding principles and strategic plans ...            0      0   \n",
       "1  The program has written policies that are supp...            0      0   \n",
       "2  Agency leadership understand the value and hav...            1      1   \n",
       "3  Agency leaders discuss trauma-informed care in...            1      0   \n",
       "\n",
       "   Minimally  Moderately  N/A to My Role  Significantly  \n",
       "0          0           2               1              3  \n",
       "1          0           3               0              3  \n",
       "2          0           2               0              2  \n",
       "3          3           0               0              2  "
      ]
     },
     "execution_count": 19,
     "metadata": {},
     "output_type": "execute_result"
    }
   ],
   "source": [
    "question_df"
   ]
  },
  {
   "cell_type": "code",
   "execution_count": 10,
   "metadata": {},
   "outputs": [],
   "source": [
    "import plotly.graph_objs as go\n",
    "from plotly.subplots import make_subplots"
   ]
  },
  {
   "cell_type": "code",
   "execution_count": 59,
   "metadata": {},
   "outputs": [
    {
     "data": {
      "application/vnd.plotly.v1+json": {
       "config": {
        "plotlyServerURL": "https://plot.ly"
       },
       "data": [
        {
         "name": "Agency guiding principles and strategic plans (vision, mission and goals) reflect a commitment to providing trauma-informed services and supports.",
         "text": [
          "0",
          "0",
          "0",
          "2",
          "1"
         ],
         "textposition": "auto",
         "type": "bar",
         "x": [
          "Do Not Know",
          "Fully",
          "Minimally",
          "Moderately",
          "N/A to My Role"
         ],
         "xaxis": "x",
         "y": [
          0,
          0,
          0,
          2,
          1
         ],
         "yaxis": "y"
        },
        {
         "name": "The program has written policies that are supportive of trauma informed approaches and demonstrate a commitment and respect for cultural differences.",
         "text": [
          "0",
          "0",
          "0",
          "3",
          "0"
         ],
         "textposition": "auto",
         "type": "bar",
         "x": [
          "Do Not Know",
          "Fully",
          "Minimally",
          "Moderately",
          "N/A to My Role"
         ],
         "xaxis": "x2",
         "y": [
          0,
          0,
          0,
          3,
          0
         ],
         "yaxis": "y2"
        },
        {
         "name": "Agency leadership understand the value and have specific training and background in trauma informed care.",
         "text": [
          "1",
          "1",
          "0",
          "2",
          "0"
         ],
         "textposition": "auto",
         "type": "bar",
         "x": [
          "Do Not Know",
          "Fully",
          "Minimally",
          "Moderately",
          "N/A to My Role"
         ],
         "xaxis": "x3",
         "y": [
          1,
          1,
          0,
          2,
          0
         ],
         "yaxis": "y3"
        },
        {
         "name": "Agency leaders discuss trauma-informed care in internal agency meetings and in public forums.",
         "text": [
          "1",
          "0",
          "3",
          "0",
          "0"
         ],
         "textposition": "auto",
         "type": "bar",
         "x": [
          "Do Not Know",
          "Fully",
          "Minimally",
          "Moderately",
          "N/A to My Role"
         ],
         "xaxis": "x4",
         "y": [
          1,
          0,
          3,
          0,
          0
         ],
         "yaxis": "y4"
        }
       ],
       "layout": {
        "autosize": false,
        "barmode": "group",
        "height": 600,
        "legend": {
         "x": 0,
         "y": -0.5
        },
        "template": {
         "data": {
          "bar": [
           {
            "error_x": {
             "color": "#2a3f5f"
            },
            "error_y": {
             "color": "#2a3f5f"
            },
            "marker": {
             "line": {
              "color": "#E5ECF6",
              "width": 0.5
             },
             "pattern": {
              "fillmode": "overlay",
              "size": 10,
              "solidity": 0.2
             }
            },
            "type": "bar"
           }
          ],
          "barpolar": [
           {
            "marker": {
             "line": {
              "color": "#E5ECF6",
              "width": 0.5
             },
             "pattern": {
              "fillmode": "overlay",
              "size": 10,
              "solidity": 0.2
             }
            },
            "type": "barpolar"
           }
          ],
          "carpet": [
           {
            "aaxis": {
             "endlinecolor": "#2a3f5f",
             "gridcolor": "white",
             "linecolor": "white",
             "minorgridcolor": "white",
             "startlinecolor": "#2a3f5f"
            },
            "baxis": {
             "endlinecolor": "#2a3f5f",
             "gridcolor": "white",
             "linecolor": "white",
             "minorgridcolor": "white",
             "startlinecolor": "#2a3f5f"
            },
            "type": "carpet"
           }
          ],
          "choropleth": [
           {
            "colorbar": {
             "outlinewidth": 0,
             "ticks": ""
            },
            "type": "choropleth"
           }
          ],
          "contour": [
           {
            "colorbar": {
             "outlinewidth": 0,
             "ticks": ""
            },
            "colorscale": [
             [
              0,
              "#0d0887"
             ],
             [
              0.1111111111111111,
              "#46039f"
             ],
             [
              0.2222222222222222,
              "#7201a8"
             ],
             [
              0.3333333333333333,
              "#9c179e"
             ],
             [
              0.4444444444444444,
              "#bd3786"
             ],
             [
              0.5555555555555556,
              "#d8576b"
             ],
             [
              0.6666666666666666,
              "#ed7953"
             ],
             [
              0.7777777777777778,
              "#fb9f3a"
             ],
             [
              0.8888888888888888,
              "#fdca26"
             ],
             [
              1,
              "#f0f921"
             ]
            ],
            "type": "contour"
           }
          ],
          "contourcarpet": [
           {
            "colorbar": {
             "outlinewidth": 0,
             "ticks": ""
            },
            "type": "contourcarpet"
           }
          ],
          "heatmap": [
           {
            "colorbar": {
             "outlinewidth": 0,
             "ticks": ""
            },
            "colorscale": [
             [
              0,
              "#0d0887"
             ],
             [
              0.1111111111111111,
              "#46039f"
             ],
             [
              0.2222222222222222,
              "#7201a8"
             ],
             [
              0.3333333333333333,
              "#9c179e"
             ],
             [
              0.4444444444444444,
              "#bd3786"
             ],
             [
              0.5555555555555556,
              "#d8576b"
             ],
             [
              0.6666666666666666,
              "#ed7953"
             ],
             [
              0.7777777777777778,
              "#fb9f3a"
             ],
             [
              0.8888888888888888,
              "#fdca26"
             ],
             [
              1,
              "#f0f921"
             ]
            ],
            "type": "heatmap"
           }
          ],
          "heatmapgl": [
           {
            "colorbar": {
             "outlinewidth": 0,
             "ticks": ""
            },
            "colorscale": [
             [
              0,
              "#0d0887"
             ],
             [
              0.1111111111111111,
              "#46039f"
             ],
             [
              0.2222222222222222,
              "#7201a8"
             ],
             [
              0.3333333333333333,
              "#9c179e"
             ],
             [
              0.4444444444444444,
              "#bd3786"
             ],
             [
              0.5555555555555556,
              "#d8576b"
             ],
             [
              0.6666666666666666,
              "#ed7953"
             ],
             [
              0.7777777777777778,
              "#fb9f3a"
             ],
             [
              0.8888888888888888,
              "#fdca26"
             ],
             [
              1,
              "#f0f921"
             ]
            ],
            "type": "heatmapgl"
           }
          ],
          "histogram": [
           {
            "marker": {
             "pattern": {
              "fillmode": "overlay",
              "size": 10,
              "solidity": 0.2
             }
            },
            "type": "histogram"
           }
          ],
          "histogram2d": [
           {
            "colorbar": {
             "outlinewidth": 0,
             "ticks": ""
            },
            "colorscale": [
             [
              0,
              "#0d0887"
             ],
             [
              0.1111111111111111,
              "#46039f"
             ],
             [
              0.2222222222222222,
              "#7201a8"
             ],
             [
              0.3333333333333333,
              "#9c179e"
             ],
             [
              0.4444444444444444,
              "#bd3786"
             ],
             [
              0.5555555555555556,
              "#d8576b"
             ],
             [
              0.6666666666666666,
              "#ed7953"
             ],
             [
              0.7777777777777778,
              "#fb9f3a"
             ],
             [
              0.8888888888888888,
              "#fdca26"
             ],
             [
              1,
              "#f0f921"
             ]
            ],
            "type": "histogram2d"
           }
          ],
          "histogram2dcontour": [
           {
            "colorbar": {
             "outlinewidth": 0,
             "ticks": ""
            },
            "colorscale": [
             [
              0,
              "#0d0887"
             ],
             [
              0.1111111111111111,
              "#46039f"
             ],
             [
              0.2222222222222222,
              "#7201a8"
             ],
             [
              0.3333333333333333,
              "#9c179e"
             ],
             [
              0.4444444444444444,
              "#bd3786"
             ],
             [
              0.5555555555555556,
              "#d8576b"
             ],
             [
              0.6666666666666666,
              "#ed7953"
             ],
             [
              0.7777777777777778,
              "#fb9f3a"
             ],
             [
              0.8888888888888888,
              "#fdca26"
             ],
             [
              1,
              "#f0f921"
             ]
            ],
            "type": "histogram2dcontour"
           }
          ],
          "mesh3d": [
           {
            "colorbar": {
             "outlinewidth": 0,
             "ticks": ""
            },
            "type": "mesh3d"
           }
          ],
          "parcoords": [
           {
            "line": {
             "colorbar": {
              "outlinewidth": 0,
              "ticks": ""
             }
            },
            "type": "parcoords"
           }
          ],
          "pie": [
           {
            "automargin": true,
            "type": "pie"
           }
          ],
          "scatter": [
           {
            "fillpattern": {
             "fillmode": "overlay",
             "size": 10,
             "solidity": 0.2
            },
            "type": "scatter"
           }
          ],
          "scatter3d": [
           {
            "line": {
             "colorbar": {
              "outlinewidth": 0,
              "ticks": ""
             }
            },
            "marker": {
             "colorbar": {
              "outlinewidth": 0,
              "ticks": ""
             }
            },
            "type": "scatter3d"
           }
          ],
          "scattercarpet": [
           {
            "marker": {
             "colorbar": {
              "outlinewidth": 0,
              "ticks": ""
             }
            },
            "type": "scattercarpet"
           }
          ],
          "scattergeo": [
           {
            "marker": {
             "colorbar": {
              "outlinewidth": 0,
              "ticks": ""
             }
            },
            "type": "scattergeo"
           }
          ],
          "scattergl": [
           {
            "marker": {
             "colorbar": {
              "outlinewidth": 0,
              "ticks": ""
             }
            },
            "type": "scattergl"
           }
          ],
          "scattermapbox": [
           {
            "marker": {
             "colorbar": {
              "outlinewidth": 0,
              "ticks": ""
             }
            },
            "type": "scattermapbox"
           }
          ],
          "scatterpolar": [
           {
            "marker": {
             "colorbar": {
              "outlinewidth": 0,
              "ticks": ""
             }
            },
            "type": "scatterpolar"
           }
          ],
          "scatterpolargl": [
           {
            "marker": {
             "colorbar": {
              "outlinewidth": 0,
              "ticks": ""
             }
            },
            "type": "scatterpolargl"
           }
          ],
          "scatterternary": [
           {
            "marker": {
             "colorbar": {
              "outlinewidth": 0,
              "ticks": ""
             }
            },
            "type": "scatterternary"
           }
          ],
          "surface": [
           {
            "colorbar": {
             "outlinewidth": 0,
             "ticks": ""
            },
            "colorscale": [
             [
              0,
              "#0d0887"
             ],
             [
              0.1111111111111111,
              "#46039f"
             ],
             [
              0.2222222222222222,
              "#7201a8"
             ],
             [
              0.3333333333333333,
              "#9c179e"
             ],
             [
              0.4444444444444444,
              "#bd3786"
             ],
             [
              0.5555555555555556,
              "#d8576b"
             ],
             [
              0.6666666666666666,
              "#ed7953"
             ],
             [
              0.7777777777777778,
              "#fb9f3a"
             ],
             [
              0.8888888888888888,
              "#fdca26"
             ],
             [
              1,
              "#f0f921"
             ]
            ],
            "type": "surface"
           }
          ],
          "table": [
           {
            "cells": {
             "fill": {
              "color": "#EBF0F8"
             },
             "line": {
              "color": "white"
             }
            },
            "header": {
             "fill": {
              "color": "#C8D4E3"
             },
             "line": {
              "color": "white"
             }
            },
            "type": "table"
           }
          ]
         },
         "layout": {
          "annotationdefaults": {
           "arrowcolor": "#2a3f5f",
           "arrowhead": 0,
           "arrowwidth": 1
          },
          "autotypenumbers": "strict",
          "coloraxis": {
           "colorbar": {
            "outlinewidth": 0,
            "ticks": ""
           }
          },
          "colorscale": {
           "diverging": [
            [
             0,
             "#8e0152"
            ],
            [
             0.1,
             "#c51b7d"
            ],
            [
             0.2,
             "#de77ae"
            ],
            [
             0.3,
             "#f1b6da"
            ],
            [
             0.4,
             "#fde0ef"
            ],
            [
             0.5,
             "#f7f7f7"
            ],
            [
             0.6,
             "#e6f5d0"
            ],
            [
             0.7,
             "#b8e186"
            ],
            [
             0.8,
             "#7fbc41"
            ],
            [
             0.9,
             "#4d9221"
            ],
            [
             1,
             "#276419"
            ]
           ],
           "sequential": [
            [
             0,
             "#0d0887"
            ],
            [
             0.1111111111111111,
             "#46039f"
            ],
            [
             0.2222222222222222,
             "#7201a8"
            ],
            [
             0.3333333333333333,
             "#9c179e"
            ],
            [
             0.4444444444444444,
             "#bd3786"
            ],
            [
             0.5555555555555556,
             "#d8576b"
            ],
            [
             0.6666666666666666,
             "#ed7953"
            ],
            [
             0.7777777777777778,
             "#fb9f3a"
            ],
            [
             0.8888888888888888,
             "#fdca26"
            ],
            [
             1,
             "#f0f921"
            ]
           ],
           "sequentialminus": [
            [
             0,
             "#0d0887"
            ],
            [
             0.1111111111111111,
             "#46039f"
            ],
            [
             0.2222222222222222,
             "#7201a8"
            ],
            [
             0.3333333333333333,
             "#9c179e"
            ],
            [
             0.4444444444444444,
             "#bd3786"
            ],
            [
             0.5555555555555556,
             "#d8576b"
            ],
            [
             0.6666666666666666,
             "#ed7953"
            ],
            [
             0.7777777777777778,
             "#fb9f3a"
            ],
            [
             0.8888888888888888,
             "#fdca26"
            ],
            [
             1,
             "#f0f921"
            ]
           ]
          },
          "colorway": [
           "#636efa",
           "#EF553B",
           "#00cc96",
           "#ab63fa",
           "#FFA15A",
           "#19d3f3",
           "#FF6692",
           "#B6E880",
           "#FF97FF",
           "#FECB52"
          ],
          "font": {
           "color": "#2a3f5f"
          },
          "geo": {
           "bgcolor": "white",
           "lakecolor": "white",
           "landcolor": "#E5ECF6",
           "showlakes": true,
           "showland": true,
           "subunitcolor": "white"
          },
          "hoverlabel": {
           "align": "left"
          },
          "hovermode": "closest",
          "mapbox": {
           "style": "light"
          },
          "paper_bgcolor": "white",
          "plot_bgcolor": "#E5ECF6",
          "polar": {
           "angularaxis": {
            "gridcolor": "white",
            "linecolor": "white",
            "ticks": ""
           },
           "bgcolor": "#E5ECF6",
           "radialaxis": {
            "gridcolor": "white",
            "linecolor": "white",
            "ticks": ""
           }
          },
          "scene": {
           "xaxis": {
            "backgroundcolor": "#E5ECF6",
            "gridcolor": "white",
            "gridwidth": 2,
            "linecolor": "white",
            "showbackground": true,
            "ticks": "",
            "zerolinecolor": "white"
           },
           "yaxis": {
            "backgroundcolor": "#E5ECF6",
            "gridcolor": "white",
            "gridwidth": 2,
            "linecolor": "white",
            "showbackground": true,
            "ticks": "",
            "zerolinecolor": "white"
           },
           "zaxis": {
            "backgroundcolor": "#E5ECF6",
            "gridcolor": "white",
            "gridwidth": 2,
            "linecolor": "white",
            "showbackground": true,
            "ticks": "",
            "zerolinecolor": "white"
           }
          },
          "shapedefaults": {
           "line": {
            "color": "#2a3f5f"
           }
          },
          "ternary": {
           "aaxis": {
            "gridcolor": "white",
            "linecolor": "white",
            "ticks": ""
           },
           "baxis": {
            "gridcolor": "white",
            "linecolor": "white",
            "ticks": ""
           },
           "bgcolor": "#E5ECF6",
           "caxis": {
            "gridcolor": "white",
            "linecolor": "white",
            "ticks": ""
           }
          },
          "title": {
           "x": 0.05
          },
          "xaxis": {
           "automargin": true,
           "gridcolor": "white",
           "linecolor": "white",
           "ticks": "",
           "title": {
            "standoff": 15
           },
           "zerolinecolor": "white",
           "zerolinewidth": 2
          },
          "yaxis": {
           "automargin": true,
           "gridcolor": "white",
           "linecolor": "white",
           "ticks": "",
           "title": {
            "standoff": 15
           },
           "zerolinecolor": "white",
           "zerolinewidth": 2
          }
         }
        },
        "title": {
         "text": "Grouped Bar Chart"
        },
        "width": 1800,
        "xaxis": {
         "anchor": "y",
         "domain": [
          0,
          0.1183673469387755
         ]
        },
        "xaxis2": {
         "anchor": "y2",
         "domain": [
          0.14693877551020407,
          0.26530612244897955
         ]
        },
        "xaxis3": {
         "anchor": "y3",
         "domain": [
          0.29387755102040813,
          0.4122448979591836
         ]
        },
        "xaxis4": {
         "anchor": "y4",
         "domain": [
          0.4408163265306122,
          0.5591836734693877
         ]
        },
        "xaxis5": {
         "anchor": "y5",
         "domain": [
          0.5877551020408163,
          0.7061224489795918
         ]
        },
        "xaxis6": {
         "anchor": "y6",
         "domain": [
          0.7346938775510204,
          0.8530612244897959
         ]
        },
        "xaxis7": {
         "anchor": "y7",
         "domain": [
          0.8816326530612244,
          0.9999999999999999
         ]
        },
        "yaxis": {
         "anchor": "x",
         "domain": [
          0,
          1
         ]
        },
        "yaxis2": {
         "anchor": "x2",
         "domain": [
          0,
          1
         ]
        },
        "yaxis3": {
         "anchor": "x3",
         "domain": [
          0,
          1
         ]
        },
        "yaxis4": {
         "anchor": "x4",
         "domain": [
          0,
          1
         ]
        },
        "yaxis5": {
         "anchor": "x5",
         "domain": [
          0,
          1
         ]
        },
        "yaxis6": {
         "anchor": "x6",
         "domain": [
          0,
          1
         ]
        },
        "yaxis7": {
         "anchor": "x7",
         "domain": [
          0,
          1
         ]
        }
       }
      }
     },
     "metadata": {},
     "output_type": "display_data"
    }
   ],
   "source": [
    "questions = question_df[\"Questions\"]\n",
    "categories = question_df.columns[1:-1]\n",
    "fig = go.Figure()\n",
    "fig = make_subplots(rows=1, cols=len(df))\n",
    "\n",
    "# Adding traces for each question\n",
    "for i, question in enumerate(question_df['Questions']):\n",
    "    values = question_df.loc[question_df['Questions'] == question, categories].values.flatten()\n",
    "    text_values = [str(val) if val != 0 else \"0\" for val in values]  # Replace zero values with \"0\"\n",
    "    trace = go.Bar(\n",
    "        x=categories,\n",
    "        y=values,\n",
    "        text=text_values,\n",
    "        textposition='auto',\n",
    "        name=question\n",
    "    )\n",
    "    fig.add_trace(trace, row=1, col=i+1)\n",
    "\n",
    "    \n",
    "\n",
    "fig.update_layout(\n",
    "    title='Grouped Bar Chart',\n",
    "    barmode='group',\n",
    "    autosize=False,\n",
    "    legend=dict(x=0, y=-0.5),\n",
    "    width=1800,\n",
    "    height=600\n",
    ")\n",
    "fig.show()"
   ]
  },
  {
   "cell_type": "code",
   "execution_count": 32,
   "metadata": {},
   "outputs": [],
   "source": [
    "df_one = pd.read_excel(file_one)\n",
    "df_two = pd.read_excel(file_two)"
   ]
  },
  {
   "cell_type": "code",
   "execution_count": 33,
   "metadata": {},
   "outputs": [
    {
     "name": "stdout",
     "output_type": "stream",
     "text": [
      "Manipulating data...\n",
      "Unnecessary columns are removed.\n",
      "Agency columns are renamed.\n",
      "Unnamed columns are renamed.\n",
      "Renamed long columns\n",
      "Removed all-nan value columns.\n",
      "Child Development Resources\n",
      "Colonial Behavioral Health\n",
      "Colonial CASA\n",
      "Family Matters Services, LLC\n",
      "Grove Christian Outreach Center\n",
      "Lackey Clinic\n",
      "Peninsula Agency on Aging\n",
      "Williamsburg-James City County Schools\n",
      "Williamsburg Police Department\n",
      "Combined all agency columns into one.\n",
      "Combined the same name columns\n"
     ]
    },
    {
     "data": {
      "text/html": [
       "<div>\n",
       "<style scoped>\n",
       "    .dataframe tbody tr th:only-of-type {\n",
       "        vertical-align: middle;\n",
       "    }\n",
       "\n",
       "    .dataframe tbody tr th {\n",
       "        vertical-align: top;\n",
       "    }\n",
       "\n",
       "    .dataframe thead th {\n",
       "        text-align: right;\n",
       "    }\n",
       "</style>\n",
       "<table border=\"1\" class=\"dataframe\">\n",
       "  <thead>\n",
       "    <tr style=\"text-align: right;\">\n",
       "      <th></th>\n",
       "      <th>Respondent ID</th>\n",
       "      <th>Collector ID</th>\n",
       "      <th>IP Address</th>\n",
       "      <th>Start Date</th>\n",
       "      <th>End Date</th>\n",
       "      <th>Agency</th>\n",
       "      <th>Department/Program/Unit</th>\n",
       "      <th>Agency guiding principles and strategic plans (vision, mission and goals) reflect a commitment to providing trauma-informed services and supports.</th>\n",
       "      <th>The program has written policies that are supportive of trauma informed approaches and demonstrate a commitment and respect for cultural differences.</th>\n",
       "      <th>Agency leadership understand the value and have specific training and background in trauma informed care.</th>\n",
       "      <th>...</th>\n",
       "      <th>Staff demonstrate open and respectful communication with all service recipients by: Including the service recipient in all aspects of decision making.</th>\n",
       "      <th>Staff demonstrate open and respectful communication with all service recipients by: Using open-ended questions, affirmations, reflective listening.</th>\n",
       "      <th>Staff demonstrate open and respectful communication with all service recipients by: Informing service recipients of processes and procedures so that they can anticipate and be prepared for services.</th>\n",
       "      <th>Comment 7</th>\n",
       "      <th>Staff show acceptance of cultural, ethnic, religious, linguistic and other differences.</th>\n",
       "      <th>Comment 8</th>\n",
       "      <th>Staff prioritize consumer safety to avoid re-traumatization and support resilience.</th>\n",
       "      <th>Reassessment of consumer needs is done on an on-going and individualized basis.</th>\n",
       "      <th>The agency has the capacity to provide or make a timely referral to a continuum of trauma informed services and supports.</th>\n",
       "      <th>Comment 9</th>\n",
       "    </tr>\n",
       "  </thead>\n",
       "  <tbody>\n",
       "    <tr>\n",
       "      <th>0</th>\n",
       "      <td>114565722646</td>\n",
       "      <td>429877496</td>\n",
       "      <td>216.54.0.107</td>\n",
       "      <td>2024-03-29 17:01:55</td>\n",
       "      <td>2024-03-29 17:07:00</td>\n",
       "      <td>Peninsula Agency on Aging</td>\n",
       "      <td>Transportation</td>\n",
       "      <td>Fully</td>\n",
       "      <td>Fully</td>\n",
       "      <td>Fully</td>\n",
       "      <td>...</td>\n",
       "      <td>Fully</td>\n",
       "      <td>Fully</td>\n",
       "      <td>Fully</td>\n",
       "      <td></td>\n",
       "      <td>Fully</td>\n",
       "      <td></td>\n",
       "      <td>Fully</td>\n",
       "      <td>Fully</td>\n",
       "      <td>Fully</td>\n",
       "      <td></td>\n",
       "    </tr>\n",
       "    <tr>\n",
       "      <th>1</th>\n",
       "      <td>114565719268</td>\n",
       "      <td>429877496</td>\n",
       "      <td>216.54.0.107</td>\n",
       "      <td>2024-03-29 16:54:20</td>\n",
       "      <td>2024-03-29 16:58:26</td>\n",
       "      <td>Peninsula Agency on Aging</td>\n",
       "      <td>Transportation</td>\n",
       "      <td>Do Not Know</td>\n",
       "      <td>Do Not Know</td>\n",
       "      <td>Do Not Know</td>\n",
       "      <td>...</td>\n",
       "      <td>Do Not Know</td>\n",
       "      <td>Do Not Know</td>\n",
       "      <td>Do Not Know</td>\n",
       "      <td></td>\n",
       "      <td>Do Not Know</td>\n",
       "      <td></td>\n",
       "      <td>N/A to My Role</td>\n",
       "      <td>N/A to My Role</td>\n",
       "      <td>Do Not Know</td>\n",
       "      <td></td>\n",
       "    </tr>\n",
       "    <tr>\n",
       "      <th>2</th>\n",
       "      <td>114565366525</td>\n",
       "      <td>429876581</td>\n",
       "      <td>174.193.64.244</td>\n",
       "      <td>2024-03-29 08:01:11</td>\n",
       "      <td>2024-03-29 08:16:47</td>\n",
       "      <td>Colonial Behavioral Health</td>\n",
       "      <td>ACT</td>\n",
       "      <td>Significantly</td>\n",
       "      <td>Significantly</td>\n",
       "      <td>Significantly</td>\n",
       "      <td>...</td>\n",
       "      <td>Significantly</td>\n",
       "      <td>Significantly</td>\n",
       "      <td>Significantly</td>\n",
       "      <td></td>\n",
       "      <td>Significantly</td>\n",
       "      <td></td>\n",
       "      <td>Significantly</td>\n",
       "      <td>Significantly</td>\n",
       "      <td>Significantly</td>\n",
       "      <td></td>\n",
       "    </tr>\n",
       "    <tr>\n",
       "      <th>3</th>\n",
       "      <td>114564771470</td>\n",
       "      <td>429877496</td>\n",
       "      <td>216.54.0.107</td>\n",
       "      <td>2024-03-28 15:54:05</td>\n",
       "      <td>2024-03-28 16:13:38</td>\n",
       "      <td>Peninsula Agency on Aging</td>\n",
       "      <td>Williamsburg</td>\n",
       "      <td>Minimally</td>\n",
       "      <td>Minimally</td>\n",
       "      <td>Do Not Know</td>\n",
       "      <td>...</td>\n",
       "      <td>Fully</td>\n",
       "      <td>Fully</td>\n",
       "      <td>Fully</td>\n",
       "      <td>no comment</td>\n",
       "      <td>Fully</td>\n",
       "      <td>no comment</td>\n",
       "      <td>Do Not Know</td>\n",
       "      <td>Do Not Know</td>\n",
       "      <td>Do Not Know</td>\n",
       "      <td>do not know</td>\n",
       "    </tr>\n",
       "    <tr>\n",
       "      <th>4</th>\n",
       "      <td>114564442447</td>\n",
       "      <td>429877496</td>\n",
       "      <td>216.54.0.107</td>\n",
       "      <td>2024-03-28 10:21:31</td>\n",
       "      <td>2024-03-28 10:27:07</td>\n",
       "      <td>Peninsula Agency on Aging</td>\n",
       "      <td>Williamsburg</td>\n",
       "      <td>Moderately</td>\n",
       "      <td>Moderately</td>\n",
       "      <td>Moderately</td>\n",
       "      <td>...</td>\n",
       "      <td>Significantly</td>\n",
       "      <td>Significantly</td>\n",
       "      <td>Significantly</td>\n",
       "      <td></td>\n",
       "      <td>Significantly</td>\n",
       "      <td></td>\n",
       "      <td>Significantly</td>\n",
       "      <td>Significantly</td>\n",
       "      <td>Significantly</td>\n",
       "      <td></td>\n",
       "    </tr>\n",
       "  </tbody>\n",
       "</table>\n",
       "<p>5 rows × 47 columns</p>\n",
       "</div>"
      ],
      "text/plain": [
       "  Respondent ID  Collector ID      IP Address          Start Date  \\\n",
       "0  114565722646     429877496    216.54.0.107 2024-03-29 17:01:55   \n",
       "1  114565719268     429877496    216.54.0.107 2024-03-29 16:54:20   \n",
       "2  114565366525     429876581  174.193.64.244 2024-03-29 08:01:11   \n",
       "3  114564771470     429877496    216.54.0.107 2024-03-28 15:54:05   \n",
       "4  114564442447     429877496    216.54.0.107 2024-03-28 10:21:31   \n",
       "\n",
       "             End Date                      Agency Department/Program/Unit  \\\n",
       "0 2024-03-29 17:07:00   Peninsula Agency on Aging          Transportation   \n",
       "1 2024-03-29 16:58:26   Peninsula Agency on Aging          Transportation   \n",
       "2 2024-03-29 08:16:47  Colonial Behavioral Health                     ACT   \n",
       "3 2024-03-28 16:13:38   Peninsula Agency on Aging            Williamsburg   \n",
       "4 2024-03-28 10:27:07   Peninsula Agency on Aging            Williamsburg   \n",
       "\n",
       "  Agency guiding principles and strategic plans (vision, mission and goals) reflect a commitment to providing trauma-informed services and supports.  \\\n",
       "0                                              Fully                                                                                                   \n",
       "1                                        Do Not Know                                                                                                   \n",
       "2                                      Significantly                                                                                                   \n",
       "3                                          Minimally                                                                                                   \n",
       "4                                         Moderately                                                                                                   \n",
       "\n",
       "  The program has written policies that are supportive of trauma informed approaches and demonstrate a commitment and respect for cultural differences.  \\\n",
       "0                                              Fully                                                                                                      \n",
       "1                                        Do Not Know                                                                                                      \n",
       "2                                      Significantly                                                                                                      \n",
       "3                                          Minimally                                                                                                      \n",
       "4                                         Moderately                                                                                                      \n",
       "\n",
       "  Agency leadership understand the value and have specific training and background in trauma informed care.  \\\n",
       "0                                              Fully                                                          \n",
       "1                                        Do Not Know                                                          \n",
       "2                                      Significantly                                                          \n",
       "3                                        Do Not Know                                                          \n",
       "4                                         Moderately                                                          \n",
       "\n",
       "   ...  \\\n",
       "0  ...   \n",
       "1  ...   \n",
       "2  ...   \n",
       "3  ...   \n",
       "4  ...   \n",
       "\n",
       "  Staff demonstrate open and respectful communication with all service recipients by: Including the service recipient in all aspects of decision making.  \\\n",
       "0                                              Fully                                                                                                       \n",
       "1                                        Do Not Know                                                                                                       \n",
       "2                                      Significantly                                                                                                       \n",
       "3                                              Fully                                                                                                       \n",
       "4                                      Significantly                                                                                                       \n",
       "\n",
       "  Staff demonstrate open and respectful communication with all service recipients by: Using open-ended questions, affirmations, reflective listening.  \\\n",
       "0                                              Fully                                                                                                    \n",
       "1                                        Do Not Know                                                                                                    \n",
       "2                                      Significantly                                                                                                    \n",
       "3                                              Fully                                                                                                    \n",
       "4                                      Significantly                                                                                                    \n",
       "\n",
       "  Staff demonstrate open and respectful communication with all service recipients by: Informing service recipients of processes and procedures so that they can anticipate and be prepared for services.  \\\n",
       "0                                              Fully                                                                                                                                                       \n",
       "1                                        Do Not Know                                                                                                                                                       \n",
       "2                                      Significantly                                                                                                                                                       \n",
       "3                                              Fully                                                                                                                                                       \n",
       "4                                      Significantly                                                                                                                                                       \n",
       "\n",
       "    Comment 7  \\\n",
       "0               \n",
       "1               \n",
       "2               \n",
       "3  no comment   \n",
       "4               \n",
       "\n",
       "  Staff show acceptance of cultural, ethnic, religious, linguistic and other differences.  \\\n",
       "0                                              Fully                                        \n",
       "1                                        Do Not Know                                        \n",
       "2                                      Significantly                                        \n",
       "3                                              Fully                                        \n",
       "4                                      Significantly                                        \n",
       "\n",
       "    Comment 8  \\\n",
       "0               \n",
       "1               \n",
       "2               \n",
       "3  no comment   \n",
       "4               \n",
       "\n",
       "  Staff prioritize consumer safety to avoid re-traumatization and support resilience.  \\\n",
       "0                                              Fully                                    \n",
       "1                                     N/A to My Role                                    \n",
       "2                                      Significantly                                    \n",
       "3                                        Do Not Know                                    \n",
       "4                                      Significantly                                    \n",
       "\n",
       "  Reassessment of consumer needs is done on an on-going and individualized basis.  \\\n",
       "0                                              Fully                                \n",
       "1                                     N/A to My Role                                \n",
       "2                                      Significantly                                \n",
       "3                                        Do Not Know                                \n",
       "4                                      Significantly                                \n",
       "\n",
       "  The agency has the capacity to provide or make a timely referral to a continuum of trauma informed services and supports.  \\\n",
       "0                                              Fully                                                                          \n",
       "1                                        Do Not Know                                                                          \n",
       "2                                      Significantly                                                                          \n",
       "3                                        Do Not Know                                                                          \n",
       "4                                      Significantly                                                                          \n",
       "\n",
       "     Comment 9  \n",
       "0               \n",
       "1               \n",
       "2               \n",
       "3  do not know  \n",
       "4               \n",
       "\n",
       "[5 rows x 47 columns]"
      ]
     },
     "execution_count": 33,
     "metadata": {},
     "output_type": "execute_result"
    }
   ],
   "source": [
    "trans_one = backend.transform_df(df_one, data)\n",
    "trans_one.head()"
   ]
  },
  {
   "cell_type": "code",
   "execution_count": 34,
   "metadata": {},
   "outputs": [
    {
     "name": "stdout",
     "output_type": "stream",
     "text": [
      "Manipulating data...\n",
      "Unnecessary columns are removed.\n",
      "Agency columns are renamed.\n",
      "Unnamed columns are renamed.\n",
      "Renamed long columns\n",
      "Removed all-nan value columns.\n",
      "9th District Court Services Unit\n",
      "Combined all agency columns into one.\n",
      "Combined the same name columns\n"
     ]
    },
    {
     "data": {
      "text/html": [
       "<div>\n",
       "<style scoped>\n",
       "    .dataframe tbody tr th:only-of-type {\n",
       "        vertical-align: middle;\n",
       "    }\n",
       "\n",
       "    .dataframe tbody tr th {\n",
       "        vertical-align: top;\n",
       "    }\n",
       "\n",
       "    .dataframe thead th {\n",
       "        text-align: right;\n",
       "    }\n",
       "</style>\n",
       "<table border=\"1\" class=\"dataframe\">\n",
       "  <thead>\n",
       "    <tr style=\"text-align: right;\">\n",
       "      <th></th>\n",
       "      <th>Respondent ID</th>\n",
       "      <th>Collector ID</th>\n",
       "      <th>IP Address</th>\n",
       "      <th>Start Date</th>\n",
       "      <th>End Date</th>\n",
       "      <th>Agency</th>\n",
       "      <th>Department/Program/Unit</th>\n",
       "      <th>Agency guiding principles and strategic plans (vision, mission and goals) reflect a commitment to providing trauma-informed services and supports.</th>\n",
       "      <th>The program has written policies that are supportive of trauma informed approaches and demonstrate a commitment and respect for cultural differences.</th>\n",
       "      <th>Agency leadership understand the value and have specific training and background in trauma informed care.</th>\n",
       "      <th>...</th>\n",
       "      <th>Staff demonstrate open and respectful communication with all service recipients by: Including the service recipient in all aspects of decision making.</th>\n",
       "      <th>Staff demonstrate open and respectful communication with all service recipients by: Using open-ended questions, affirmations, reflective listening.</th>\n",
       "      <th>Staff demonstrate open and respectful communication with all service recipients by: Informing service recipients of processes and procedures so that they can anticipate and be prepared for services.</th>\n",
       "      <th>Comment 7</th>\n",
       "      <th>Staff show acceptance of cultural, ethnic, religious, linguistic and other differences.</th>\n",
       "      <th>Comment 8</th>\n",
       "      <th>Staff prioritize consumer safety to avoid re-traumatization and support resilience.</th>\n",
       "      <th>Reassessment of consumer needs is done on an on-going and individualized basis.</th>\n",
       "      <th>The agency has the capacity to provide or make a timely referral to a continuum of trauma informed services and supports.</th>\n",
       "      <th>Comment 9</th>\n",
       "    </tr>\n",
       "  </thead>\n",
       "  <tbody>\n",
       "    <tr>\n",
       "      <th>0</th>\n",
       "      <td>114430427938</td>\n",
       "      <td>427641165</td>\n",
       "      <td>161.69.57.11</td>\n",
       "      <td>2023-10-06 09:54:19</td>\n",
       "      <td>2023-10-06 10:01:49</td>\n",
       "      <td>9th District Court Service Unit</td>\n",
       "      <td>Video Intake Unit</td>\n",
       "      <td>Significantly</td>\n",
       "      <td>Significantly</td>\n",
       "      <td>Significantly</td>\n",
       "      <td>...</td>\n",
       "      <td>Significantly</td>\n",
       "      <td>Significantly</td>\n",
       "      <td>Significantly</td>\n",
       "      <td></td>\n",
       "      <td>Fully</td>\n",
       "      <td></td>\n",
       "      <td>Significantly</td>\n",
       "      <td>Significantly</td>\n",
       "      <td>Significantly</td>\n",
       "      <td></td>\n",
       "    </tr>\n",
       "    <tr>\n",
       "      <th>1</th>\n",
       "      <td>114429804637</td>\n",
       "      <td>427641165</td>\n",
       "      <td>161.69.57.11</td>\n",
       "      <td>2023-10-05 15:31:53</td>\n",
       "      <td>2023-10-05 15:40:43</td>\n",
       "      <td>9th District Court Service Unit</td>\n",
       "      <td>9th District CSU</td>\n",
       "      <td>Fully</td>\n",
       "      <td>Fully</td>\n",
       "      <td>Moderately</td>\n",
       "      <td>...</td>\n",
       "      <td>Fully</td>\n",
       "      <td>Fully</td>\n",
       "      <td>Fully</td>\n",
       "      <td></td>\n",
       "      <td>Fully</td>\n",
       "      <td>N?A</td>\n",
       "      <td>Fully</td>\n",
       "      <td>Fully</td>\n",
       "      <td>Fully</td>\n",
       "      <td></td>\n",
       "    </tr>\n",
       "    <tr>\n",
       "      <th>2</th>\n",
       "      <td>114429684868</td>\n",
       "      <td>427641165</td>\n",
       "      <td>161.69.57.11</td>\n",
       "      <td>2023-10-05 13:33:06</td>\n",
       "      <td>2023-10-05 13:55:22</td>\n",
       "      <td>9th District Court Service Unit</td>\n",
       "      <td>Department of Juvenile Justice</td>\n",
       "      <td>Minimally</td>\n",
       "      <td>Moderately</td>\n",
       "      <td>Minimally</td>\n",
       "      <td>...</td>\n",
       "      <td>Significantly</td>\n",
       "      <td>Significantly</td>\n",
       "      <td>Significantly</td>\n",
       "      <td>n/a</td>\n",
       "      <td>Significantly</td>\n",
       "      <td>n/a</td>\n",
       "      <td>Moderately</td>\n",
       "      <td>Significantly</td>\n",
       "      <td>N/A to My Role</td>\n",
       "      <td>there is not a lot of training conducted on ho...</td>\n",
       "    </tr>\n",
       "    <tr>\n",
       "      <th>3</th>\n",
       "      <td>114429367778</td>\n",
       "      <td>427641165</td>\n",
       "      <td>161.69.57.11</td>\n",
       "      <td>2023-10-05 07:53:00</td>\n",
       "      <td>2023-10-05 08:09:51</td>\n",
       "      <td>9th District Court Service Unit</td>\n",
       "      <td>DJJ/Juvenile Probation/9th District</td>\n",
       "      <td>Fully</td>\n",
       "      <td>Significantly</td>\n",
       "      <td>Do Not Know</td>\n",
       "      <td>...</td>\n",
       "      <td>Fully</td>\n",
       "      <td>Fully</td>\n",
       "      <td>Fully</td>\n",
       "      <td></td>\n",
       "      <td>Significantly</td>\n",
       "      <td></td>\n",
       "      <td>Fully</td>\n",
       "      <td>Fully</td>\n",
       "      <td>Fully</td>\n",
       "      <td></td>\n",
       "    </tr>\n",
       "    <tr>\n",
       "      <th>4</th>\n",
       "      <td>114428118622</td>\n",
       "      <td>427641165</td>\n",
       "      <td>173.71.152.25</td>\n",
       "      <td>2023-10-03 23:43:09</td>\n",
       "      <td>2023-10-03 23:47:22</td>\n",
       "      <td>9th District Court Service Unit</td>\n",
       "      <td></td>\n",
       "      <td>Moderately</td>\n",
       "      <td>Minimally</td>\n",
       "      <td>Significantly</td>\n",
       "      <td>...</td>\n",
       "      <td></td>\n",
       "      <td></td>\n",
       "      <td></td>\n",
       "      <td></td>\n",
       "      <td></td>\n",
       "      <td></td>\n",
       "      <td></td>\n",
       "      <td></td>\n",
       "      <td></td>\n",
       "      <td></td>\n",
       "    </tr>\n",
       "  </tbody>\n",
       "</table>\n",
       "<p>5 rows × 47 columns</p>\n",
       "</div>"
      ],
      "text/plain": [
       "  Respondent ID  Collector ID     IP Address          Start Date  \\\n",
       "0  114430427938     427641165   161.69.57.11 2023-10-06 09:54:19   \n",
       "1  114429804637     427641165   161.69.57.11 2023-10-05 15:31:53   \n",
       "2  114429684868     427641165   161.69.57.11 2023-10-05 13:33:06   \n",
       "3  114429367778     427641165   161.69.57.11 2023-10-05 07:53:00   \n",
       "4  114428118622     427641165  173.71.152.25 2023-10-03 23:43:09   \n",
       "\n",
       "             End Date                           Agency  \\\n",
       "0 2023-10-06 10:01:49  9th District Court Service Unit   \n",
       "1 2023-10-05 15:40:43  9th District Court Service Unit   \n",
       "2 2023-10-05 13:55:22  9th District Court Service Unit   \n",
       "3 2023-10-05 08:09:51  9th District Court Service Unit   \n",
       "4 2023-10-03 23:47:22  9th District Court Service Unit   \n",
       "\n",
       "               Department/Program/Unit  \\\n",
       "0                    Video Intake Unit   \n",
       "1                     9th District CSU   \n",
       "2      Department of Juvenile Justice    \n",
       "3  DJJ/Juvenile Probation/9th District   \n",
       "4                                        \n",
       "\n",
       "  Agency guiding principles and strategic plans (vision, mission and goals) reflect a commitment to providing trauma-informed services and supports.  \\\n",
       "0                                      Significantly                                                                                                   \n",
       "1                                              Fully                                                                                                   \n",
       "2                                          Minimally                                                                                                   \n",
       "3                                              Fully                                                                                                   \n",
       "4                                         Moderately                                                                                                   \n",
       "\n",
       "  The program has written policies that are supportive of trauma informed approaches and demonstrate a commitment and respect for cultural differences.  \\\n",
       "0                                      Significantly                                                                                                      \n",
       "1                                              Fully                                                                                                      \n",
       "2                                         Moderately                                                                                                      \n",
       "3                                      Significantly                                                                                                      \n",
       "4                                          Minimally                                                                                                      \n",
       "\n",
       "  Agency leadership understand the value and have specific training and background in trauma informed care.  \\\n",
       "0                                      Significantly                                                          \n",
       "1                                         Moderately                                                          \n",
       "2                                          Minimally                                                          \n",
       "3                                        Do Not Know                                                          \n",
       "4                                      Significantly                                                          \n",
       "\n",
       "   ...  \\\n",
       "0  ...   \n",
       "1  ...   \n",
       "2  ...   \n",
       "3  ...   \n",
       "4  ...   \n",
       "\n",
       "  Staff demonstrate open and respectful communication with all service recipients by: Including the service recipient in all aspects of decision making.  \\\n",
       "0                                      Significantly                                                                                                       \n",
       "1                                              Fully                                                                                                       \n",
       "2                                      Significantly                                                                                                       \n",
       "3                                              Fully                                                                                                       \n",
       "4                                                                                                                                                          \n",
       "\n",
       "  Staff demonstrate open and respectful communication with all service recipients by: Using open-ended questions, affirmations, reflective listening.  \\\n",
       "0                                      Significantly                                                                                                    \n",
       "1                                              Fully                                                                                                    \n",
       "2                                      Significantly                                                                                                    \n",
       "3                                              Fully                                                                                                    \n",
       "4                                                                                                                                                       \n",
       "\n",
       "  Staff demonstrate open and respectful communication with all service recipients by: Informing service recipients of processes and procedures so that they can anticipate and be prepared for services.  \\\n",
       "0                                      Significantly                                                                                                                                                       \n",
       "1                                              Fully                                                                                                                                                       \n",
       "2                                      Significantly                                                                                                                                                       \n",
       "3                                              Fully                                                                                                                                                       \n",
       "4                                                                                                                                                                                                          \n",
       "\n",
       "  Comment 7  \\\n",
       "0             \n",
       "1             \n",
       "2      n/a    \n",
       "3             \n",
       "4             \n",
       "\n",
       "  Staff show acceptance of cultural, ethnic, religious, linguistic and other differences.  \\\n",
       "0                                              Fully                                        \n",
       "1                                              Fully                                        \n",
       "2                                      Significantly                                        \n",
       "3                                      Significantly                                        \n",
       "4                                                                                           \n",
       "\n",
       "  Comment 8  \\\n",
       "0             \n",
       "1       N?A   \n",
       "2      n/a    \n",
       "3             \n",
       "4             \n",
       "\n",
       "  Staff prioritize consumer safety to avoid re-traumatization and support resilience.  \\\n",
       "0                                      Significantly                                    \n",
       "1                                              Fully                                    \n",
       "2                                         Moderately                                    \n",
       "3                                              Fully                                    \n",
       "4                                                                                       \n",
       "\n",
       "  Reassessment of consumer needs is done on an on-going and individualized basis.  \\\n",
       "0                                      Significantly                                \n",
       "1                                              Fully                                \n",
       "2                                      Significantly                                \n",
       "3                                              Fully                                \n",
       "4                                                                                   \n",
       "\n",
       "  The agency has the capacity to provide or make a timely referral to a continuum of trauma informed services and supports.  \\\n",
       "0                                      Significantly                                                                          \n",
       "1                                              Fully                                                                          \n",
       "2                                     N/A to My Role                                                                          \n",
       "3                                              Fully                                                                          \n",
       "4                                                                                                                             \n",
       "\n",
       "                                           Comment 9  \n",
       "0                                                     \n",
       "1                                                     \n",
       "2  there is not a lot of training conducted on ho...  \n",
       "3                                                     \n",
       "4                                                     \n",
       "\n",
       "[5 rows x 47 columns]"
      ]
     },
     "execution_count": 34,
     "metadata": {},
     "output_type": "execute_result"
    }
   ],
   "source": [
    "trans_two = backend.transform_df(df_two, data)\n",
    "trans_two.head()"
   ]
  },
  {
   "cell_type": "code",
   "execution_count": 35,
   "metadata": {},
   "outputs": [
    {
     "data": {
      "text/html": [
       "<div>\n",
       "<style scoped>\n",
       "    .dataframe tbody tr th:only-of-type {\n",
       "        vertical-align: middle;\n",
       "    }\n",
       "\n",
       "    .dataframe tbody tr th {\n",
       "        vertical-align: top;\n",
       "    }\n",
       "\n",
       "    .dataframe thead th {\n",
       "        text-align: right;\n",
       "    }\n",
       "</style>\n",
       "<table border=\"1\" class=\"dataframe\">\n",
       "  <thead>\n",
       "    <tr style=\"text-align: right;\">\n",
       "      <th></th>\n",
       "      <th>Respondent ID</th>\n",
       "      <th>Collector ID</th>\n",
       "      <th>IP Address</th>\n",
       "      <th>Start Date</th>\n",
       "      <th>End Date</th>\n",
       "      <th>Agency</th>\n",
       "      <th>Department/Program/Unit</th>\n",
       "      <th>Agency guiding principles and strategic plans (vision, mission and goals) reflect a commitment to providing trauma-informed services and supports.</th>\n",
       "      <th>The program has written policies that are supportive of trauma informed approaches and demonstrate a commitment and respect for cultural differences.</th>\n",
       "      <th>Agency leadership understand the value and have specific training and background in trauma informed care.</th>\n",
       "      <th>...</th>\n",
       "      <th>Staff demonstrate open and respectful communication with all service recipients by: Including the service recipient in all aspects of decision making.</th>\n",
       "      <th>Staff demonstrate open and respectful communication with all service recipients by: Using open-ended questions, affirmations, reflective listening.</th>\n",
       "      <th>Staff demonstrate open and respectful communication with all service recipients by: Informing service recipients of processes and procedures so that they can anticipate and be prepared for services.</th>\n",
       "      <th>Comment 7</th>\n",
       "      <th>Staff show acceptance of cultural, ethnic, religious, linguistic and other differences.</th>\n",
       "      <th>Comment 8</th>\n",
       "      <th>Staff prioritize consumer safety to avoid re-traumatization and support resilience.</th>\n",
       "      <th>Reassessment of consumer needs is done on an on-going and individualized basis.</th>\n",
       "      <th>The agency has the capacity to provide or make a timely referral to a continuum of trauma informed services and supports.</th>\n",
       "      <th>Comment 9</th>\n",
       "    </tr>\n",
       "  </thead>\n",
       "  <tbody>\n",
       "    <tr>\n",
       "      <th>0</th>\n",
       "      <td>114565722646</td>\n",
       "      <td>429877496</td>\n",
       "      <td>216.54.0.107</td>\n",
       "      <td>2024-03-29 17:01:55</td>\n",
       "      <td>2024-03-29 17:07:00</td>\n",
       "      <td>Peninsula Agency on Aging</td>\n",
       "      <td>Transportation</td>\n",
       "      <td>Fully</td>\n",
       "      <td>Fully</td>\n",
       "      <td>Fully</td>\n",
       "      <td>...</td>\n",
       "      <td>Fully</td>\n",
       "      <td>Fully</td>\n",
       "      <td>Fully</td>\n",
       "      <td></td>\n",
       "      <td>Fully</td>\n",
       "      <td></td>\n",
       "      <td>Fully</td>\n",
       "      <td>Fully</td>\n",
       "      <td>Fully</td>\n",
       "      <td></td>\n",
       "    </tr>\n",
       "    <tr>\n",
       "      <th>1</th>\n",
       "      <td>114565719268</td>\n",
       "      <td>429877496</td>\n",
       "      <td>216.54.0.107</td>\n",
       "      <td>2024-03-29 16:54:20</td>\n",
       "      <td>2024-03-29 16:58:26</td>\n",
       "      <td>Peninsula Agency on Aging</td>\n",
       "      <td>Transportation</td>\n",
       "      <td>Do Not Know</td>\n",
       "      <td>Do Not Know</td>\n",
       "      <td>Do Not Know</td>\n",
       "      <td>...</td>\n",
       "      <td>Do Not Know</td>\n",
       "      <td>Do Not Know</td>\n",
       "      <td>Do Not Know</td>\n",
       "      <td></td>\n",
       "      <td>Do Not Know</td>\n",
       "      <td></td>\n",
       "      <td>N/A to My Role</td>\n",
       "      <td>N/A to My Role</td>\n",
       "      <td>Do Not Know</td>\n",
       "      <td></td>\n",
       "    </tr>\n",
       "    <tr>\n",
       "      <th>2</th>\n",
       "      <td>114565366525</td>\n",
       "      <td>429876581</td>\n",
       "      <td>174.193.64.244</td>\n",
       "      <td>2024-03-29 08:01:11</td>\n",
       "      <td>2024-03-29 08:16:47</td>\n",
       "      <td>Colonial Behavioral Health</td>\n",
       "      <td>ACT</td>\n",
       "      <td>Significantly</td>\n",
       "      <td>Significantly</td>\n",
       "      <td>Significantly</td>\n",
       "      <td>...</td>\n",
       "      <td>Significantly</td>\n",
       "      <td>Significantly</td>\n",
       "      <td>Significantly</td>\n",
       "      <td></td>\n",
       "      <td>Significantly</td>\n",
       "      <td></td>\n",
       "      <td>Significantly</td>\n",
       "      <td>Significantly</td>\n",
       "      <td>Significantly</td>\n",
       "      <td></td>\n",
       "    </tr>\n",
       "    <tr>\n",
       "      <th>3</th>\n",
       "      <td>114564771470</td>\n",
       "      <td>429877496</td>\n",
       "      <td>216.54.0.107</td>\n",
       "      <td>2024-03-28 15:54:05</td>\n",
       "      <td>2024-03-28 16:13:38</td>\n",
       "      <td>Peninsula Agency on Aging</td>\n",
       "      <td>Williamsburg</td>\n",
       "      <td>Minimally</td>\n",
       "      <td>Minimally</td>\n",
       "      <td>Do Not Know</td>\n",
       "      <td>...</td>\n",
       "      <td>Fully</td>\n",
       "      <td>Fully</td>\n",
       "      <td>Fully</td>\n",
       "      <td>no comment</td>\n",
       "      <td>Fully</td>\n",
       "      <td>no comment</td>\n",
       "      <td>Do Not Know</td>\n",
       "      <td>Do Not Know</td>\n",
       "      <td>Do Not Know</td>\n",
       "      <td>do not know</td>\n",
       "    </tr>\n",
       "    <tr>\n",
       "      <th>4</th>\n",
       "      <td>114564442447</td>\n",
       "      <td>429877496</td>\n",
       "      <td>216.54.0.107</td>\n",
       "      <td>2024-03-28 10:21:31</td>\n",
       "      <td>2024-03-28 10:27:07</td>\n",
       "      <td>Peninsula Agency on Aging</td>\n",
       "      <td>Williamsburg</td>\n",
       "      <td>Moderately</td>\n",
       "      <td>Moderately</td>\n",
       "      <td>Moderately</td>\n",
       "      <td>...</td>\n",
       "      <td>Significantly</td>\n",
       "      <td>Significantly</td>\n",
       "      <td>Significantly</td>\n",
       "      <td></td>\n",
       "      <td>Significantly</td>\n",
       "      <td></td>\n",
       "      <td>Significantly</td>\n",
       "      <td>Significantly</td>\n",
       "      <td>Significantly</td>\n",
       "      <td></td>\n",
       "    </tr>\n",
       "    <tr>\n",
       "      <th>...</th>\n",
       "      <td>...</td>\n",
       "      <td>...</td>\n",
       "      <td>...</td>\n",
       "      <td>...</td>\n",
       "      <td>...</td>\n",
       "      <td>...</td>\n",
       "      <td>...</td>\n",
       "      <td>...</td>\n",
       "      <td>...</td>\n",
       "      <td>...</td>\n",
       "      <td>...</td>\n",
       "      <td>...</td>\n",
       "      <td>...</td>\n",
       "      <td>...</td>\n",
       "      <td>...</td>\n",
       "      <td>...</td>\n",
       "      <td>...</td>\n",
       "      <td>...</td>\n",
       "      <td>...</td>\n",
       "      <td>...</td>\n",
       "      <td>...</td>\n",
       "    </tr>\n",
       "    <tr>\n",
       "      <th>22</th>\n",
       "      <td>114420622386</td>\n",
       "      <td>427641165</td>\n",
       "      <td>166.67.255.247</td>\n",
       "      <td>2023-09-25 08:04:34</td>\n",
       "      <td>2023-09-25 08:18:15</td>\n",
       "      <td>9th District Court Service Unit</td>\n",
       "      <td>Court Service UNit</td>\n",
       "      <td>Significantly</td>\n",
       "      <td>Do Not Know</td>\n",
       "      <td>Significantly</td>\n",
       "      <td>...</td>\n",
       "      <td>Do Not Know</td>\n",
       "      <td>Do Not Know</td>\n",
       "      <td>Do Not Know</td>\n",
       "      <td>I'm not sure how staff communicate with all se...</td>\n",
       "      <td>Do Not Know</td>\n",
       "      <td>I'm not sure how staff communicate with all se...</td>\n",
       "      <td>Do Not Know</td>\n",
       "      <td>Do Not Know</td>\n",
       "      <td>Do Not Know</td>\n",
       "      <td>I'm not sure how staff communicate with all se...</td>\n",
       "    </tr>\n",
       "    <tr>\n",
       "      <th>23</th>\n",
       "      <td>114419651547</td>\n",
       "      <td>427641165</td>\n",
       "      <td>161.69.57.11</td>\n",
       "      <td>2023-09-23 07:31:43</td>\n",
       "      <td>2023-09-23 07:36:53</td>\n",
       "      <td>9th District Court Service Unit</td>\n",
       "      <td>Intake</td>\n",
       "      <td>Fully</td>\n",
       "      <td>Fully</td>\n",
       "      <td>Fully</td>\n",
       "      <td>...</td>\n",
       "      <td>Significantly</td>\n",
       "      <td>Fully</td>\n",
       "      <td>Fully</td>\n",
       "      <td>Yes</td>\n",
       "      <td>Fully</td>\n",
       "      <td>Yes</td>\n",
       "      <td>Significantly</td>\n",
       "      <td>Fully</td>\n",
       "      <td>Fully</td>\n",
       "      <td>Yes</td>\n",
       "    </tr>\n",
       "    <tr>\n",
       "      <th>24</th>\n",
       "      <td>114419264770</td>\n",
       "      <td>427641165</td>\n",
       "      <td>161.69.57.11</td>\n",
       "      <td>2023-09-22 15:10:19</td>\n",
       "      <td>2023-09-22 15:39:17</td>\n",
       "      <td>9th District Court Service Unit</td>\n",
       "      <td>Department of Juvenile Justice</td>\n",
       "      <td>Moderately</td>\n",
       "      <td>Significantly</td>\n",
       "      <td>Significantly</td>\n",
       "      <td>...</td>\n",
       "      <td>Moderately</td>\n",
       "      <td>Significantly</td>\n",
       "      <td>Fully</td>\n",
       "      <td>Clients do not get to make their own recommend...</td>\n",
       "      <td>Significantly</td>\n",
       "      <td>Most staff. There are always some that don't.</td>\n",
       "      <td>Minimally</td>\n",
       "      <td>Significantly</td>\n",
       "      <td>Significantly</td>\n",
       "      <td>9th District prioritize other things over clie...</td>\n",
       "    </tr>\n",
       "    <tr>\n",
       "      <th>25</th>\n",
       "      <td>114419237779</td>\n",
       "      <td>427641165</td>\n",
       "      <td>161.69.57.11</td>\n",
       "      <td>2023-09-22 14:36:12</td>\n",
       "      <td>2023-09-22 14:45:00</td>\n",
       "      <td>9th District Court Service Unit</td>\n",
       "      <td></td>\n",
       "      <td>Significantly</td>\n",
       "      <td>Significantly</td>\n",
       "      <td>Significantly</td>\n",
       "      <td>...</td>\n",
       "      <td>Significantly</td>\n",
       "      <td>Significantly</td>\n",
       "      <td>Significantly</td>\n",
       "      <td></td>\n",
       "      <td>Significantly</td>\n",
       "      <td></td>\n",
       "      <td>Significantly</td>\n",
       "      <td>Do Not Know</td>\n",
       "      <td>Do Not Know</td>\n",
       "      <td></td>\n",
       "    </tr>\n",
       "    <tr>\n",
       "      <th>26</th>\n",
       "      <td>114419237706</td>\n",
       "      <td>427641165</td>\n",
       "      <td>166.67.255.242</td>\n",
       "      <td>2023-09-22 14:38:16</td>\n",
       "      <td>2023-09-22 14:44:39</td>\n",
       "      <td>9th District Court Service Unit</td>\n",
       "      <td>Williamsburg</td>\n",
       "      <td>Fully</td>\n",
       "      <td>Fully</td>\n",
       "      <td>Fully</td>\n",
       "      <td>...</td>\n",
       "      <td>Significantly</td>\n",
       "      <td>Significantly</td>\n",
       "      <td>Significantly</td>\n",
       "      <td></td>\n",
       "      <td>Fully</td>\n",
       "      <td></td>\n",
       "      <td>Significantly</td>\n",
       "      <td>Significantly</td>\n",
       "      <td>Significantly</td>\n",
       "      <td></td>\n",
       "    </tr>\n",
       "  </tbody>\n",
       "</table>\n",
       "<p>204 rows × 47 columns</p>\n",
       "</div>"
      ],
      "text/plain": [
       "   Respondent ID  Collector ID      IP Address          Start Date  \\\n",
       "0   114565722646     429877496    216.54.0.107 2024-03-29 17:01:55   \n",
       "1   114565719268     429877496    216.54.0.107 2024-03-29 16:54:20   \n",
       "2   114565366525     429876581  174.193.64.244 2024-03-29 08:01:11   \n",
       "3   114564771470     429877496    216.54.0.107 2024-03-28 15:54:05   \n",
       "4   114564442447     429877496    216.54.0.107 2024-03-28 10:21:31   \n",
       "..           ...           ...             ...                 ...   \n",
       "22  114420622386     427641165  166.67.255.247 2023-09-25 08:04:34   \n",
       "23  114419651547     427641165    161.69.57.11 2023-09-23 07:31:43   \n",
       "24  114419264770     427641165    161.69.57.11 2023-09-22 15:10:19   \n",
       "25  114419237779     427641165    161.69.57.11 2023-09-22 14:36:12   \n",
       "26  114419237706     427641165  166.67.255.242 2023-09-22 14:38:16   \n",
       "\n",
       "              End Date                           Agency  \\\n",
       "0  2024-03-29 17:07:00        Peninsula Agency on Aging   \n",
       "1  2024-03-29 16:58:26        Peninsula Agency on Aging   \n",
       "2  2024-03-29 08:16:47       Colonial Behavioral Health   \n",
       "3  2024-03-28 16:13:38        Peninsula Agency on Aging   \n",
       "4  2024-03-28 10:27:07        Peninsula Agency on Aging   \n",
       "..                 ...                              ...   \n",
       "22 2023-09-25 08:18:15  9th District Court Service Unit   \n",
       "23 2023-09-23 07:36:53  9th District Court Service Unit   \n",
       "24 2023-09-22 15:39:17  9th District Court Service Unit   \n",
       "25 2023-09-22 14:45:00  9th District Court Service Unit   \n",
       "26 2023-09-22 14:44:39  9th District Court Service Unit   \n",
       "\n",
       "           Department/Program/Unit  \\\n",
       "0                   Transportation   \n",
       "1                   Transportation   \n",
       "2                              ACT   \n",
       "3                     Williamsburg   \n",
       "4                     Williamsburg   \n",
       "..                             ...   \n",
       "22              Court Service UNit   \n",
       "23                          Intake   \n",
       "24  Department of Juvenile Justice   \n",
       "25                                   \n",
       "26                    Williamsburg   \n",
       "\n",
       "   Agency guiding principles and strategic plans (vision, mission and goals) reflect a commitment to providing trauma-informed services and supports.  \\\n",
       "0                                               Fully                                                                                                   \n",
       "1                                         Do Not Know                                                                                                   \n",
       "2                                       Significantly                                                                                                   \n",
       "3                                           Minimally                                                                                                   \n",
       "4                                          Moderately                                                                                                   \n",
       "..                                                ...                                                                                                   \n",
       "22                                      Significantly                                                                                                   \n",
       "23                                              Fully                                                                                                   \n",
       "24                                         Moderately                                                                                                   \n",
       "25                                      Significantly                                                                                                   \n",
       "26                                              Fully                                                                                                   \n",
       "\n",
       "   The program has written policies that are supportive of trauma informed approaches and demonstrate a commitment and respect for cultural differences.  \\\n",
       "0                                               Fully                                                                                                      \n",
       "1                                         Do Not Know                                                                                                      \n",
       "2                                       Significantly                                                                                                      \n",
       "3                                           Minimally                                                                                                      \n",
       "4                                          Moderately                                                                                                      \n",
       "..                                                ...                                                                                                      \n",
       "22                                        Do Not Know                                                                                                      \n",
       "23                                              Fully                                                                                                      \n",
       "24                                      Significantly                                                                                                      \n",
       "25                                      Significantly                                                                                                      \n",
       "26                                              Fully                                                                                                      \n",
       "\n",
       "   Agency leadership understand the value and have specific training and background in trauma informed care.  \\\n",
       "0                                               Fully                                                          \n",
       "1                                         Do Not Know                                                          \n",
       "2                                       Significantly                                                          \n",
       "3                                         Do Not Know                                                          \n",
       "4                                          Moderately                                                          \n",
       "..                                                ...                                                          \n",
       "22                                      Significantly                                                          \n",
       "23                                              Fully                                                          \n",
       "24                                      Significantly                                                          \n",
       "25                                      Significantly                                                          \n",
       "26                                              Fully                                                          \n",
       "\n",
       "    ...  \\\n",
       "0   ...   \n",
       "1   ...   \n",
       "2   ...   \n",
       "3   ...   \n",
       "4   ...   \n",
       "..  ...   \n",
       "22  ...   \n",
       "23  ...   \n",
       "24  ...   \n",
       "25  ...   \n",
       "26  ...   \n",
       "\n",
       "   Staff demonstrate open and respectful communication with all service recipients by: Including the service recipient in all aspects of decision making.  \\\n",
       "0                                               Fully                                                                                                       \n",
       "1                                         Do Not Know                                                                                                       \n",
       "2                                       Significantly                                                                                                       \n",
       "3                                               Fully                                                                                                       \n",
       "4                                       Significantly                                                                                                       \n",
       "..                                                ...                                                                                                       \n",
       "22                                        Do Not Know                                                                                                       \n",
       "23                                      Significantly                                                                                                       \n",
       "24                                         Moderately                                                                                                       \n",
       "25                                      Significantly                                                                                                       \n",
       "26                                      Significantly                                                                                                       \n",
       "\n",
       "   Staff demonstrate open and respectful communication with all service recipients by: Using open-ended questions, affirmations, reflective listening.  \\\n",
       "0                                               Fully                                                                                                    \n",
       "1                                         Do Not Know                                                                                                    \n",
       "2                                       Significantly                                                                                                    \n",
       "3                                               Fully                                                                                                    \n",
       "4                                       Significantly                                                                                                    \n",
       "..                                                ...                                                                                                    \n",
       "22                                        Do Not Know                                                                                                    \n",
       "23                                              Fully                                                                                                    \n",
       "24                                      Significantly                                                                                                    \n",
       "25                                      Significantly                                                                                                    \n",
       "26                                      Significantly                                                                                                    \n",
       "\n",
       "   Staff demonstrate open and respectful communication with all service recipients by: Informing service recipients of processes and procedures so that they can anticipate and be prepared for services.  \\\n",
       "0                                               Fully                                                                                                                                                       \n",
       "1                                         Do Not Know                                                                                                                                                       \n",
       "2                                       Significantly                                                                                                                                                       \n",
       "3                                               Fully                                                                                                                                                       \n",
       "4                                       Significantly                                                                                                                                                       \n",
       "..                                                ...                                                                                                                                                       \n",
       "22                                        Do Not Know                                                                                                                                                       \n",
       "23                                              Fully                                                                                                                                                       \n",
       "24                                              Fully                                                                                                                                                       \n",
       "25                                      Significantly                                                                                                                                                       \n",
       "26                                      Significantly                                                                                                                                                       \n",
       "\n",
       "                                            Comment 7  \\\n",
       "0                                                       \n",
       "1                                                       \n",
       "2                                                       \n",
       "3                                          no comment   \n",
       "4                                                       \n",
       "..                                                ...   \n",
       "22  I'm not sure how staff communicate with all se...   \n",
       "23                                                Yes   \n",
       "24  Clients do not get to make their own recommend...   \n",
       "25                                                      \n",
       "26                                                      \n",
       "\n",
       "   Staff show acceptance of cultural, ethnic, religious, linguistic and other differences.  \\\n",
       "0                                               Fully                                        \n",
       "1                                         Do Not Know                                        \n",
       "2                                       Significantly                                        \n",
       "3                                               Fully                                        \n",
       "4                                       Significantly                                        \n",
       "..                                                ...                                        \n",
       "22                                        Do Not Know                                        \n",
       "23                                              Fully                                        \n",
       "24                                      Significantly                                        \n",
       "25                                      Significantly                                        \n",
       "26                                              Fully                                        \n",
       "\n",
       "                                            Comment 8  \\\n",
       "0                                                       \n",
       "1                                                       \n",
       "2                                                       \n",
       "3                                          no comment   \n",
       "4                                                       \n",
       "..                                                ...   \n",
       "22  I'm not sure how staff communicate with all se...   \n",
       "23                                                Yes   \n",
       "24     Most staff. There are always some that don't.    \n",
       "25                                                      \n",
       "26                                                      \n",
       "\n",
       "   Staff prioritize consumer safety to avoid re-traumatization and support resilience.  \\\n",
       "0                                               Fully                                    \n",
       "1                                      N/A to My Role                                    \n",
       "2                                       Significantly                                    \n",
       "3                                         Do Not Know                                    \n",
       "4                                       Significantly                                    \n",
       "..                                                ...                                    \n",
       "22                                        Do Not Know                                    \n",
       "23                                      Significantly                                    \n",
       "24                                          Minimally                                    \n",
       "25                                      Significantly                                    \n",
       "26                                      Significantly                                    \n",
       "\n",
       "   Reassessment of consumer needs is done on an on-going and individualized basis.  \\\n",
       "0                                               Fully                                \n",
       "1                                      N/A to My Role                                \n",
       "2                                       Significantly                                \n",
       "3                                         Do Not Know                                \n",
       "4                                       Significantly                                \n",
       "..                                                ...                                \n",
       "22                                        Do Not Know                                \n",
       "23                                              Fully                                \n",
       "24                                      Significantly                                \n",
       "25                                        Do Not Know                                \n",
       "26                                      Significantly                                \n",
       "\n",
       "   The agency has the capacity to provide or make a timely referral to a continuum of trauma informed services and supports.  \\\n",
       "0                                               Fully                                                                          \n",
       "1                                         Do Not Know                                                                          \n",
       "2                                       Significantly                                                                          \n",
       "3                                         Do Not Know                                                                          \n",
       "4                                       Significantly                                                                          \n",
       "..                                                ...                                                                          \n",
       "22                                        Do Not Know                                                                          \n",
       "23                                              Fully                                                                          \n",
       "24                                      Significantly                                                                          \n",
       "25                                        Do Not Know                                                                          \n",
       "26                                      Significantly                                                                          \n",
       "\n",
       "                                            Comment 9  \n",
       "0                                                      \n",
       "1                                                      \n",
       "2                                                      \n",
       "3                                         do not know  \n",
       "4                                                      \n",
       "..                                                ...  \n",
       "22  I'm not sure how staff communicate with all se...  \n",
       "23                                                Yes  \n",
       "24  9th District prioritize other things over clie...  \n",
       "25                                                     \n",
       "26                                                     \n",
       "\n",
       "[204 rows x 47 columns]"
      ]
     },
     "execution_count": 35,
     "metadata": {},
     "output_type": "execute_result"
    }
   ],
   "source": [
    "frames = [trans_one, trans_two]\n",
    "result = pd.concat(frames)\n",
    "result"
   ]
  },
  {
   "cell_type": "code",
   "execution_count": 36,
   "metadata": {},
   "outputs": [
    {
     "data": {
      "text/html": [
       "<div>\n",
       "<style scoped>\n",
       "    .dataframe tbody tr th:only-of-type {\n",
       "        vertical-align: middle;\n",
       "    }\n",
       "\n",
       "    .dataframe tbody tr th {\n",
       "        vertical-align: top;\n",
       "    }\n",
       "\n",
       "    .dataframe thead th {\n",
       "        text-align: right;\n",
       "    }\n",
       "</style>\n",
       "<table border=\"1\" class=\"dataframe\">\n",
       "  <thead>\n",
       "    <tr style=\"text-align: right;\">\n",
       "      <th></th>\n",
       "      <th>Comment 1</th>\n",
       "      <th>Comment 2</th>\n",
       "      <th>Comment 3</th>\n",
       "      <th>Comment 4</th>\n",
       "      <th>Comment 5</th>\n",
       "      <th>Comment 6</th>\n",
       "      <th>Comment 7</th>\n",
       "      <th>Comment 8</th>\n",
       "      <th>Comment 9</th>\n",
       "    </tr>\n",
       "  </thead>\n",
       "  <tbody>\n",
       "    <tr>\n",
       "      <th>0</th>\n",
       "      <td></td>\n",
       "      <td></td>\n",
       "      <td></td>\n",
       "      <td></td>\n",
       "      <td></td>\n",
       "      <td></td>\n",
       "      <td></td>\n",
       "      <td></td>\n",
       "      <td></td>\n",
       "    </tr>\n",
       "    <tr>\n",
       "      <th>1</th>\n",
       "      <td></td>\n",
       "      <td></td>\n",
       "      <td></td>\n",
       "      <td></td>\n",
       "      <td></td>\n",
       "      <td></td>\n",
       "      <td></td>\n",
       "      <td></td>\n",
       "      <td></td>\n",
       "    </tr>\n",
       "    <tr>\n",
       "      <th>2</th>\n",
       "      <td>The importance of person centered care is ofte...</td>\n",
       "      <td>I am not aware of what all the programs do.</td>\n",
       "      <td>I don’t see the chickens program area</td>\n",
       "      <td></td>\n",
       "      <td></td>\n",
       "      <td></td>\n",
       "      <td></td>\n",
       "      <td></td>\n",
       "      <td></td>\n",
       "    </tr>\n",
       "    <tr>\n",
       "      <th>3</th>\n",
       "      <td>unsure if it was discussed</td>\n",
       "      <td>unaware of the training</td>\n",
       "      <td>na</td>\n",
       "      <td>na</td>\n",
       "      <td>na</td>\n",
       "      <td>unsure</td>\n",
       "      <td>no comment</td>\n",
       "      <td>no comment</td>\n",
       "      <td>do not know</td>\n",
       "    </tr>\n",
       "    <tr>\n",
       "      <th>4</th>\n",
       "      <td></td>\n",
       "      <td></td>\n",
       "      <td></td>\n",
       "      <td></td>\n",
       "      <td></td>\n",
       "      <td></td>\n",
       "      <td></td>\n",
       "      <td></td>\n",
       "      <td></td>\n",
       "    </tr>\n",
       "    <tr>\n",
       "      <th>...</th>\n",
       "      <td>...</td>\n",
       "      <td>...</td>\n",
       "      <td>...</td>\n",
       "      <td>...</td>\n",
       "      <td>...</td>\n",
       "      <td>...</td>\n",
       "      <td>...</td>\n",
       "      <td>...</td>\n",
       "      <td>...</td>\n",
       "    </tr>\n",
       "    <tr>\n",
       "      <th>22</th>\n",
       "      <td>Not yet for any written policies.</td>\n",
       "      <td>Not on a consistent basis.Not discuss on a reg...</td>\n",
       "      <td>Not all offices are furnished to promote digni...</td>\n",
       "      <td>It's not talk about as much anymore.</td>\n",
       "      <td>The agency should spend more time to educate c...</td>\n",
       "      <td>I'm not sure if they are given the opportunity...</td>\n",
       "      <td>I'm not sure how staff communicate with all se...</td>\n",
       "      <td>I'm not sure how staff communicate with all se...</td>\n",
       "      <td>I'm not sure how staff communicate with all se...</td>\n",
       "    </tr>\n",
       "    <tr>\n",
       "      <th>23</th>\n",
       "      <td>Trauma informed services training is a part of...</td>\n",
       "      <td>N/AN/A</td>\n",
       "      <td>Yes</td>\n",
       "      <td>Yes</td>\n",
       "      <td>Yes</td>\n",
       "      <td>Don't know</td>\n",
       "      <td>Yes</td>\n",
       "      <td>Yes</td>\n",
       "      <td>Yes</td>\n",
       "    </tr>\n",
       "    <tr>\n",
       "      <th>24</th>\n",
       "      <td></td>\n",
       "      <td>I do not think that staff are trained how to h...</td>\n",
       "      <td></td>\n",
       "      <td>I think staff could be trained better in regar...</td>\n",
       "      <td></td>\n",
       "      <td>Clients provide feedback for diversion case bu...</td>\n",
       "      <td>Clients do not get to make their own recommend...</td>\n",
       "      <td>Most staff. There are always some that don't.</td>\n",
       "      <td>9th District prioritize other things over clie...</td>\n",
       "    </tr>\n",
       "    <tr>\n",
       "      <th>25</th>\n",
       "      <td>I am not sure what leadership discusses in the...</td>\n",
       "      <td>We may receive this type of training once a ye...</td>\n",
       "      <td></td>\n",
       "      <td></td>\n",
       "      <td></td>\n",
       "      <td></td>\n",
       "      <td></td>\n",
       "      <td></td>\n",
       "      <td></td>\n",
       "    </tr>\n",
       "    <tr>\n",
       "      <th>26</th>\n",
       "      <td></td>\n",
       "      <td>N/AN/A</td>\n",
       "      <td></td>\n",
       "      <td></td>\n",
       "      <td>POs and supervisors have offices where they me...</td>\n",
       "      <td></td>\n",
       "      <td></td>\n",
       "      <td></td>\n",
       "      <td></td>\n",
       "    </tr>\n",
       "  </tbody>\n",
       "</table>\n",
       "<p>204 rows × 9 columns</p>\n",
       "</div>"
      ],
      "text/plain": [
       "                                            Comment 1  \\\n",
       "0                                                       \n",
       "1                                                       \n",
       "2   The importance of person centered care is ofte...   \n",
       "3                          unsure if it was discussed   \n",
       "4                                                       \n",
       "..                                                ...   \n",
       "22                  Not yet for any written policies.   \n",
       "23  Trauma informed services training is a part of...   \n",
       "24                                                      \n",
       "25  I am not sure what leadership discusses in the...   \n",
       "26                                                      \n",
       "\n",
       "                                            Comment 2  \\\n",
       "0                                                       \n",
       "1                                                       \n",
       "2        I am not aware of what all the programs do.    \n",
       "3                            unaware of the training    \n",
       "4                                                       \n",
       "..                                                ...   \n",
       "22  Not on a consistent basis.Not discuss on a reg...   \n",
       "23                                             N/AN/A   \n",
       "24  I do not think that staff are trained how to h...   \n",
       "25  We may receive this type of training once a ye...   \n",
       "26                                             N/AN/A   \n",
       "\n",
       "                                            Comment 3  \\\n",
       "0                                                       \n",
       "1                                                       \n",
       "2               I don’t see the chickens program area   \n",
       "3                                                  na   \n",
       "4                                                       \n",
       "..                                                ...   \n",
       "22  Not all offices are furnished to promote digni...   \n",
       "23                                                Yes   \n",
       "24                                                      \n",
       "25                                                      \n",
       "26                                                      \n",
       "\n",
       "                                            Comment 4  \\\n",
       "0                                                       \n",
       "1                                                       \n",
       "2                                                       \n",
       "3                                                  na   \n",
       "4                                                       \n",
       "..                                                ...   \n",
       "22               It's not talk about as much anymore.   \n",
       "23                                                Yes   \n",
       "24  I think staff could be trained better in regar...   \n",
       "25                                                      \n",
       "26                                                      \n",
       "\n",
       "                                            Comment 5  \\\n",
       "0                                                       \n",
       "1                                                       \n",
       "2                                                       \n",
       "3                                                  na   \n",
       "4                                                       \n",
       "..                                                ...   \n",
       "22  The agency should spend more time to educate c...   \n",
       "23                                                Yes   \n",
       "24                                                      \n",
       "25                                                      \n",
       "26  POs and supervisors have offices where they me...   \n",
       "\n",
       "                                            Comment 6  \\\n",
       "0                                                       \n",
       "1                                                       \n",
       "2                                                       \n",
       "3                                              unsure   \n",
       "4                                                       \n",
       "..                                                ...   \n",
       "22  I'm not sure if they are given the opportunity...   \n",
       "23                                         Don't know   \n",
       "24  Clients provide feedback for diversion case bu...   \n",
       "25                                                      \n",
       "26                                                      \n",
       "\n",
       "                                            Comment 7  \\\n",
       "0                                                       \n",
       "1                                                       \n",
       "2                                                       \n",
       "3                                          no comment   \n",
       "4                                                       \n",
       "..                                                ...   \n",
       "22  I'm not sure how staff communicate with all se...   \n",
       "23                                                Yes   \n",
       "24  Clients do not get to make their own recommend...   \n",
       "25                                                      \n",
       "26                                                      \n",
       "\n",
       "                                            Comment 8  \\\n",
       "0                                                       \n",
       "1                                                       \n",
       "2                                                       \n",
       "3                                          no comment   \n",
       "4                                                       \n",
       "..                                                ...   \n",
       "22  I'm not sure how staff communicate with all se...   \n",
       "23                                                Yes   \n",
       "24     Most staff. There are always some that don't.    \n",
       "25                                                      \n",
       "26                                                      \n",
       "\n",
       "                                            Comment 9  \n",
       "0                                                      \n",
       "1                                                      \n",
       "2                                                      \n",
       "3                                         do not know  \n",
       "4                                                      \n",
       "..                                                ...  \n",
       "22  I'm not sure how staff communicate with all se...  \n",
       "23                                                Yes  \n",
       "24  9th District prioritize other things over clie...  \n",
       "25                                                     \n",
       "26                                                     \n",
       "\n",
       "[204 rows x 9 columns]"
      ]
     },
     "execution_count": 36,
     "metadata": {},
     "output_type": "execute_result"
    }
   ],
   "source": [
    "comment_df = result[data[\"question_category\"][\"comments\"]]\n",
    "comment_df"
   ]
  },
  {
   "cell_type": "code",
   "execution_count": 37,
   "metadata": {},
   "outputs": [
    {
     "data": {
      "text/plain": [
       "0                                                      \n",
       "1                                                      \n",
       "2     The importance of person centered care is ofte...\n",
       "3                            unsure if it was discussed\n",
       "4                                                      \n",
       "                            ...                        \n",
       "22                    Not yet for any written policies.\n",
       "23    Trauma informed services training is a part of...\n",
       "24                                                     \n",
       "25    I am not sure what leadership discusses in the...\n",
       "26                                                     \n",
       "Name: Comment 1, Length: 204, dtype: object"
      ]
     },
     "execution_count": 37,
     "metadata": {},
     "output_type": "execute_result"
    }
   ],
   "source": [
    "comment_df[\"Comment 1\"]"
   ]
  },
  {
   "cell_type": "code",
   "execution_count": 38,
   "metadata": {},
   "outputs": [],
   "source": [
    "comment_string = \"\".join(comment_df[\"Comment 1\"])"
   ]
  },
  {
   "cell_type": "code",
   "execution_count": 39,
   "metadata": {},
   "outputs": [
    {
     "data": {
      "text/plain": [
       "'The importance of person centered care is often discussed during training and in meetings. unsure if it was discussedThe agency supports non-discrimination policies, treating all clients with respect and dignity, but there are no written policies specific to Trauma-informed care.   The agency leadership encourages staff training and community engagement of the Care Coordinators re: trauma-informed care.   I am not aware that Agency leaders discuss trauma-informed care in internal agency meetings or public forums.Very informative meeting. Speaker was excellent presenter. Assumed, but unaware if and when agency leaders have informed meetings regarding trauma - informed care, or what may be discussed, or what the understanding of leadership is on cultural differences, values, and training.Trainings are offered for all areas but could be more comprehensive to specific populationsUpon onboarding, I expressed an interest and asked if I could participate in some of the courses.  I was told in short order that the courses displayed on the CBH SharePoint were for the social workers and therapists and I would be told if and when the information was related to IS.  I also asked if there were \"lunch and learn\" opportunities where the program managers could use the 1-hr lunch break to inform those who are interested in policies, processes, etc., regarding mental health, the community, etc. - no response to date.Mimimallyno commentsFairly new to my organization. I don\\'t have those answers. PAA has a social justice committee that has created trainings and policies regarding respect for cultural differences. I feel the term significantly is too subjective here.  We all have training, discussions, and experiences in this area, but they are not significant.  They are a smaller part of everything else we must do.This department rocks!I do believe that there are some members within my department that tend to downplay the seriousness of certain, high-stress calls. Internal meetings cover a lot of topics and is not solely focused on traumaI responded fully for all of the questions above. I believe we do great job of protecting the consumers we encounter.N/athere has been training available in this area over the last yearunable to respond without question what the goals of the agency is regarding trauma informed treatment.Not involved in the internal meetingsIt is well supported and informed.I\\'m not sure the agency leadership understands the value of trauma trainings The agency could do a better job in community outreach.I am unsure if leadership has specific training and background in trauma informed care and I am unsure if agency leaders discuss trauma-informed care in internal agency meetings because I am not in those meetings.xno commentTrauma has not been the subject of any meetingsTrauma informed care is a big focus at our agency as evidenced by availability of trainings for staff.N?AThe Infant Toddler Behavioral Consultants throughout the state are trained and the CO staff for this program.--------Not our main focus with the program but could be beneficial to have more training on. Dual diagnoses in ID/DD population is sometimes overlooked, especially if there is trauma connected to it. I don\\'t have the answer to these questionsDont know if there a manualWe are a faith based organization with goals that are in place to help out Greater Williamsburg and James City County. We do have information and partners that we can contact to refer our Neighbors to receive those services, but we do not provide them directly.I deal with computers not really peopleHave not really heard it discussedThe idea of implementing trauma informed care is present, not sure if the specific training is in place. naI am new to the agency; I also work from home so I do not see a lot of CDR\\'s policies in actionHaven\\'t heard of any trainings yet.Some people treat trauma as an occurrence to monitor not be dealt with at the moment.I work in fundraising, not the actual programsNo commentIn the group day setting for individuals with ID or DD I have never heard trauma informed care mentioned.  This could be an fairly big oversite as individuals with this kind of lived experience may have undergone trauma growing up in our society which his callous to, and dismissive of their needs.I don’t have enough information to fully answer this question. Not all agency leaders appear to have received training in the area.my work is more behind the scenes I do not attend public forums or agency meetingsN/aI am not sure that enough discussion is scheduled to address trauma informed care for the agency as a whole Some of the leadership does not even know  what it really is.  Some leaders continue to run meetings disregarding any staff trauma.  Not aware of upcoming trainings at this time. I have not seen written policy supportive of trauma informed care.I feel our agency has worked in all these ways to help those who need helpTrauma informed training appears limited to clinical staff, which from a holistic perspective neglects the importance of a trauma-informed approach at every level of client interaction. Higher level leadership does not support policies and approaches that promote self-care and holistic healing of staff, which in turn has a trickle down effect for a a reduction in the effectiveness of any trauma informed interventions with clients.  N/A to my roleThe subject is highlighted in meetings related to the specific topics. It is not discussed throughly in meetings. More of a generalized topic. However, trainings are required for QMHP requirements yearly to cover as well as reviewed in groups, individual sessions with individuals regularly or as needed throughout the year. I am not a part of leadership meetings or aware of any public forum meetings.I am not in leadershipI don’t hear a lot about it in my day to day operations so I am not sure how to answer the questions asked. The majority actively understand the value incorporating trauma informed approaches and viewing issues under a trauma informed lens but this isn\\'t occuring across the board.It has been my experience that staff at all levels and departments are well aware of the lives lived by the individuals we serve, including the difficulties they may have experienced, and everyone takes great care to ensure they provide a supportive, respectful, and well informed experience to the individuals seeking our support.N/aNo commentaside from a single seminar and a CISM team that is still being built formed, I genuinely have no clue what this department is doing for mental health as with many other things, guidence is given last minute We understand Trauma and are aware of it in responding to critical incidents, but there has been no discussion or training on trauma or trauma informed care. No policies that address it. As a substitute teacher in all WJCC schools, I am unaware of any of these policies. If they are in place, they are not practiced in real time. I am not aware of any program regarding trauma for cultural differencesI am unaware of written policiesWe are fully on board with trauma informed best practices and approaches.  Agency has a culture which creates a sense of belonging with core values that support the whole person concept for program participants, staff and community collaborators.We don\\'t always reference trauma-informed care publicly.I don\\'t know of any written policies in our program that are supportive of trauma approaches, etc. Maybe another role in the program knows of these policies. I feel that CDR does a great job in explaining trauma -informed plans, policies, services and teaching techniques.N/aCASA is a wonderful organization which makes a difference in the lives of children and their families.Not sure about the written policies, I haven\\'t reviewed them in a long time.No response at this timeIn my position I do not interact with families or children that CDR provides services to.  NaSupported from the top downI think in some areas we could do better as a whole. I answered Moderately but I believe we are there but need a little extra pushDiscussion of trauma services are made, feel the clarity of specifics support are not there. Unsure of written trauma policies.The agency is well versed/educated in trauma informed care.N/A to my roleNot aware of the written policyNot involved in those discussions though training link was posted, but at a time classroom teachers are unable to attend.N//AScore between moderately and significantly I personally haven\\'t seen written policies or attended a meeting on trauma for the Agency however, based on interactions with the owners, I believe they are supportive and are open for discussion if needed.I am a volunteer mentor and have not seen any of the information you are discussing nor have I taken the time to research any of the information/policies which do not pertain to my role.Colonial CASA\\'s policies are closely unchanged from the inception with only National CASA/DCJS update requirements.  The policies have not been reviewed for specific trauma informed-language.N/aThere are policies in place and there is also a tool that the probation officers/ parole officers utilize to score a youth\\'s exposure to trauma. However, that is it. While working with youth there is not an approach to assist the officers in providing supervision to those who have been exposed to trauma. It seems that all youth are approached the same regardless of their background. I do not know if my leadership has training background in trauma informed care. I do not believe the agency has policies relating to trauma.  .Just because it was spoken about or we complete a training about something doesn\\'t mean, it will be acted upon.No commentThings are improving with trauma informed approaches for clients yet not as much for staff.   naN/A  We regularly have trauma informed care trainings throughout the year. It is discussed at department meetings, not sure if it is discussed outside of those meetings in the public forum. did not utilize those answers.I do not believe I have received any trauma-informed training during my time with the 9th District, nor am I familiar with any policies regarding it. If I did, it wasn\\'t impactful enough to remember. If our leadership has had trauma-informed training, I wouldn\\'t know it. I do not believe the 9th\\'s leadership understands the value of being trauma informed when it comes to their subordinates. I do think they care about how their subordinates treat children and families who have undergone trauma, but only because they don’t want complaints.Not yet for any written policies.Trauma informed services training is a part of our mandatory training. I am not sure what leadership discusses in their internal meetings.'"
      ]
     },
     "execution_count": 39,
     "metadata": {},
     "output_type": "execute_result"
    }
   ],
   "source": [
    "comment_string"
   ]
  },
  {
   "cell_type": "code",
   "execution_count": 40,
   "metadata": {},
   "outputs": [],
   "source": [
    "from wordcloud import WordCloud\n",
    "import matplotlib.pyplot as plt"
   ]
  },
  {
   "cell_type": "code",
   "execution_count": 41,
   "metadata": {},
   "outputs": [
    {
     "data": {
      "image/png": "[encoded data removed]",
      "text/plain": [
       "<Figure size 640x480 with 1 Axes>"
      ]
     },
     "metadata": {},
     "output_type": "display_data"
    }
   ],
   "source": [
    "wc = WordCloud(width=600, height=300, background_color = \"white\", colormap = \"magma\", max_words=55)\n",
    "wc.generate(comment_string)\n",
    "\n",
    "plt.imshow(wc, interpolation=\"bilinear\")\n",
    "plt.axis(\"off\")\n",
    "plt.show()"
   ]
  },
  {
   "cell_type": "code",
   "execution_count": 42,
   "metadata": {},
   "outputs": [
    {
     "data": {
      "text/plain": [
       "['Policy Review/Governance and Leadership',\n",
       " 'Staff Development & TrainingStaff at all levels of the program receive training and education on the following topics:',\n",
       " 'Supportive Environment',\n",
       " 'The agency provides services that engage and are accessible and affirming to:',\n",
       " 'The agency demonstrates respect for privacy and confidentiality by:',\n",
       " 'Service Recipients Engagement',\n",
       " 'Staff demonstrate open and respectful communication with all service recipients by:',\n",
       " 'Staff show acceptance of cultural, ethnic, religious, linguistic and other differences.',\n",
       " 'Services']"
      ]
     },
     "execution_count": 42,
     "metadata": {},
     "output_type": "execute_result"
    }
   ],
   "source": [
    "list(data[\"comment_category\"].keys())"
   ]
  },
  {
   "cell_type": "code",
   "execution_count": 43,
   "metadata": {},
   "outputs": [
    {
     "data": {
      "text/plain": [
       "['Comment 1']"
      ]
     },
     "execution_count": 43,
     "metadata": {},
     "output_type": "execute_result"
    }
   ],
   "source": [
    "data[\"comment_category\"][\"Policy Review/Governance and Leadership\"]"
   ]
  },
  {
   "cell_type": "code",
   "execution_count": 44,
   "metadata": {},
   "outputs": [
    {
     "data": {
      "text/plain": [
       "0                                                      \n",
       "1                                                      \n",
       "2     The importance of person centered care is ofte...\n",
       "3                            unsure if it was discussed\n",
       "4                                                      \n",
       "                            ...                        \n",
       "22                    Not yet for any written policies.\n",
       "23    Trauma informed services training is a part of...\n",
       "24                                                     \n",
       "25    I am not sure what leadership discusses in the...\n",
       "26                                                     \n",
       "Name: Comment 1, Length: 204, dtype: object"
      ]
     },
     "execution_count": 44,
     "metadata": {},
     "output_type": "execute_result"
    }
   ],
   "source": [
    "comment_df[data[\"comment_category\"][\"Policy Review/Governance and Leadership\"][0]]"
   ]
  },
  {
   "cell_type": "code",
   "execution_count": 45,
   "metadata": {},
   "outputs": [],
   "source": [
    "import geocoder\n",
    "import folium"
   ]
  },
  {
   "cell_type": "code",
   "execution_count": 46,
   "metadata": {},
   "outputs": [
    {
     "name": "stdout",
     "output_type": "stream",
     "text": [
      "[36.8468, -76.2852]\n"
     ]
    }
   ],
   "source": [
    "g = geocoder.ip(\"216.54.0.107\")\n",
    "address = g.latlng\n",
    "print(address)"
   ]
  },
  {
   "cell_type": "code",
   "execution_count": 47,
   "metadata": {},
   "outputs": [],
   "source": [
    "map = folium.Map(location=address, zoom_start=12)\n",
    "map.save(\"map.html\")"
   ]
  },
  {
   "cell_type": "code",
   "execution_count": 48,
   "metadata": {},
   "outputs": [
    {
     "data": {
      "text/plain": [
       "<folium.vector_layers.CircleMarker at 0x203436e6850>"
      ]
     },
     "execution_count": 48,
     "metadata": {},
     "output_type": "execute_result"
    }
   ],
   "source": [
    "folium.CircleMarker(location=address, radius=50, popup=\"Location\").add_to(map)"
   ]
  },
  {
   "cell_type": "code",
   "execution_count": 49,
   "metadata": {},
   "outputs": [
    {
     "data": {
      "text/html": [
       "<div style=\"width:100%;\"><div style=\"position:relative;width:100%;height:0;padding-bottom:60%;\"><span style=\"color:#565656\">Make this Notebook Trusted to load map: File -> Trust Notebook</span><iframe srcdoc=\"&lt;!DOCTYPE html&gt;\n",
       "&lt;html&gt;\n",
       "&lt;head&gt;\n",
       "    \n",
       "    &lt;meta http-equiv=&quot;content-type&quot; content=&quot;text/html; charset=UTF-8&quot; /&gt;\n",
       "    \n",
       "        &lt;script&gt;\n",
       "            L_NO_TOUCH = false;\n",
       "            L_DISABLE_3D = false;\n",
       "        &lt;/script&gt;\n",
       "    \n",
       "    &lt;style&gt;html, body {width: 100%;height: 100%;margin: 0;padding: 0;}&lt;/style&gt;\n",
       "    &lt;style&gt;#map {position:absolute;top:0;bottom:0;right:0;left:0;}&lt;/style&gt;\n",
       "    &lt;script src=&quot;https://cdn.jsdelivr.net/npm/leaflet@1.9.3/dist/leaflet.js&quot;&gt;&lt;/script&gt;\n",
       "    &lt;script src=&quot;https://code.jquery.com/jquery-3.7.1.min.js&quot;&gt;&lt;/script&gt;\n",
       "    &lt;script src=&quot;https://cdn.jsdelivr.net/npm/bootstrap@5.2.2/dist/js/bootstrap.bundle.min.js&quot;&gt;&lt;/script&gt;\n",
       "    &lt;script src=&quot;https://cdnjs.cloudflare.com/ajax/libs/Leaflet.awesome-markers/2.0.2/leaflet.awesome-markers.js&quot;&gt;&lt;/script&gt;\n",
       "    &lt;link rel=&quot;stylesheet&quot; href=&quot;https://cdn.jsdelivr.net/npm/leaflet@1.9.3/dist/leaflet.css&quot;/&gt;\n",
       "    &lt;link rel=&quot;stylesheet&quot; href=&quot;https://cdn.jsdelivr.net/npm/bootstrap@5.2.2/dist/css/bootstrap.min.css&quot;/&gt;\n",
       "    &lt;link rel=&quot;stylesheet&quot; href=&quot;https://netdna.bootstrapcdn.com/bootstrap/3.0.0/css/bootstrap.min.css&quot;/&gt;\n",
       "    &lt;link rel=&quot;stylesheet&quot; href=&quot;https://cdn.jsdelivr.net/npm/@fortawesome/fontawesome-free@6.2.0/css/all.min.css&quot;/&gt;\n",
       "    &lt;link rel=&quot;stylesheet&quot; href=&quot;https://cdnjs.cloudflare.com/ajax/libs/Leaflet.awesome-markers/2.0.2/leaflet.awesome-markers.css&quot;/&gt;\n",
       "    &lt;link rel=&quot;stylesheet&quot; href=&quot;https://cdn.jsdelivr.net/gh/python-visualization/folium/folium/templates/leaflet.awesome.rotate.min.css&quot;/&gt;\n",
       "    \n",
       "            &lt;meta name=&quot;viewport&quot; content=&quot;width=device-width,\n",
       "                initial-scale=1.0, maximum-scale=1.0, user-scalable=no&quot; /&gt;\n",
       "            &lt;style&gt;\n",
       "                #map_e91f4f72358df7aaebf48cdd7ad7abb4 {\n",
       "                    position: relative;\n",
       "                    width: 100.0%;\n",
       "                    height: 100.0%;\n",
       "                    left: 0.0%;\n",
       "                    top: 0.0%;\n",
       "                }\n",
       "                .leaflet-container { font-size: 1rem; }\n",
       "            &lt;/style&gt;\n",
       "        \n",
       "    \n",
       "            &lt;meta name=&quot;viewport&quot; content=&quot;width=device-width,\n",
       "                initial-scale=1.0, maximum-scale=1.0, user-scalable=no&quot; /&gt;\n",
       "            &lt;style&gt;\n",
       "                #map_523614da6d5fe07fc24eb9253f56d33b {\n",
       "                    position: relative;\n",
       "                    width: 100.0%;\n",
       "                    height: 100.0%;\n",
       "                    left: 0.0%;\n",
       "                    top: 0.0%;\n",
       "                }\n",
       "                .leaflet-container { font-size: 1rem; }\n",
       "            &lt;/style&gt;\n",
       "        \n",
       "&lt;/head&gt;\n",
       "&lt;body&gt;\n",
       "    \n",
       "    \n",
       "            &lt;div class=&quot;folium-map&quot; id=&quot;map_e91f4f72358df7aaebf48cdd7ad7abb4&quot; &gt;&lt;/div&gt;\n",
       "        \n",
       "    \n",
       "            &lt;div class=&quot;folium-map&quot; id=&quot;map_523614da6d5fe07fc24eb9253f56d33b&quot; &gt;&lt;/div&gt;\n",
       "        \n",
       "&lt;/body&gt;\n",
       "&lt;script&gt;\n",
       "    \n",
       "    \n",
       "            var map_e91f4f72358df7aaebf48cdd7ad7abb4 = L.map(\n",
       "                &quot;map_e91f4f72358df7aaebf48cdd7ad7abb4&quot;,\n",
       "                {\n",
       "                    center: [36.8468, -76.2852],\n",
       "                    crs: L.CRS.EPSG3857,\n",
       "                    zoom: 12,\n",
       "                    zoomControl: true,\n",
       "                    preferCanvas: false,\n",
       "                }\n",
       "            );\n",
       "\n",
       "            \n",
       "\n",
       "        \n",
       "    \n",
       "            var tile_layer_6c4b9282572ef87b0e9509a75a5c3458 = L.tileLayer(\n",
       "                &quot;https://tile.openstreetmap.org/{z}/{x}/{y}.png&quot;,\n",
       "                {&quot;attribution&quot;: &quot;\\u0026copy; \\u003ca href=\\&quot;https://www.openstreetmap.org/copyright\\&quot;\\u003eOpenStreetMap\\u003c/a\\u003e contributors&quot;, &quot;detectRetina&quot;: false, &quot;maxNativeZoom&quot;: 19, &quot;maxZoom&quot;: 19, &quot;minZoom&quot;: 0, &quot;noWrap&quot;: false, &quot;opacity&quot;: 1, &quot;subdomains&quot;: &quot;abc&quot;, &quot;tms&quot;: false}\n",
       "            );\n",
       "        \n",
       "    \n",
       "            tile_layer_6c4b9282572ef87b0e9509a75a5c3458.addTo(map_e91f4f72358df7aaebf48cdd7ad7abb4);\n",
       "        \n",
       "    \n",
       "            tile_layer_6c4b9282572ef87b0e9509a75a5c3458.addTo(map_e91f4f72358df7aaebf48cdd7ad7abb4);\n",
       "        \n",
       "    \n",
       "            var circle_marker_4d2be457f0fffceab7b50bdad8c06c0a = L.circleMarker(\n",
       "                [36.8468, -76.2852],\n",
       "                {&quot;bubblingMouseEvents&quot;: true, &quot;color&quot;: &quot;#3388ff&quot;, &quot;dashArray&quot;: null, &quot;dashOffset&quot;: null, &quot;fill&quot;: false, &quot;fillColor&quot;: &quot;#3388ff&quot;, &quot;fillOpacity&quot;: 0.2, &quot;fillRule&quot;: &quot;evenodd&quot;, &quot;lineCap&quot;: &quot;round&quot;, &quot;lineJoin&quot;: &quot;round&quot;, &quot;opacity&quot;: 1.0, &quot;radius&quot;: 50, &quot;stroke&quot;: true, &quot;weight&quot;: 3}\n",
       "            ).addTo(map_e91f4f72358df7aaebf48cdd7ad7abb4);\n",
       "        \n",
       "    \n",
       "        var popup_b9865404349d298c71f5ea20bdef4516 = L.popup({&quot;maxWidth&quot;: &quot;100%&quot;});\n",
       "\n",
       "        \n",
       "            \n",
       "                var html_b30dbb07eeadc6042c91fe3879b058bf = $(`&lt;div id=&quot;html_b30dbb07eeadc6042c91fe3879b058bf&quot; style=&quot;width: 100.0%; height: 100.0%;&quot;&gt;Location&lt;/div&gt;`)[0];\n",
       "                popup_b9865404349d298c71f5ea20bdef4516.setContent(html_b30dbb07eeadc6042c91fe3879b058bf);\n",
       "            \n",
       "        \n",
       "\n",
       "        circle_marker_4d2be457f0fffceab7b50bdad8c06c0a.bindPopup(popup_b9865404349d298c71f5ea20bdef4516)\n",
       "        ;\n",
       "\n",
       "        \n",
       "    \n",
       "    \n",
       "            var map_523614da6d5fe07fc24eb9253f56d33b = L.map(\n",
       "                &quot;map_523614da6d5fe07fc24eb9253f56d33b&quot;,\n",
       "                {\n",
       "                    center: [36.8468, -76.2852],\n",
       "                    crs: L.CRS.EPSG3857,\n",
       "                    zoom: 10,\n",
       "                    zoomControl: true,\n",
       "                    preferCanvas: false,\n",
       "                    popUp: &quot;Location&quot;,\n",
       "                }\n",
       "            );\n",
       "\n",
       "            \n",
       "\n",
       "        \n",
       "    \n",
       "            var tile_layer_6100e6f520099fab8abdf58a20fcf6d3 = L.tileLayer(\n",
       "                &quot;https://tile.openstreetmap.org/{z}/{x}/{y}.png&quot;,\n",
       "                {&quot;attribution&quot;: &quot;\\u0026copy; \\u003ca href=\\&quot;https://www.openstreetmap.org/copyright\\&quot;\\u003eOpenStreetMap\\u003c/a\\u003e contributors&quot;, &quot;detectRetina&quot;: false, &quot;maxNativeZoom&quot;: 19, &quot;maxZoom&quot;: 19, &quot;minZoom&quot;: 0, &quot;noWrap&quot;: false, &quot;opacity&quot;: 1, &quot;subdomains&quot;: &quot;abc&quot;, &quot;tms&quot;: false}\n",
       "            );\n",
       "        \n",
       "    \n",
       "            tile_layer_6100e6f520099fab8abdf58a20fcf6d3.addTo(map_523614da6d5fe07fc24eb9253f56d33b);\n",
       "        \n",
       "&lt;/script&gt;\n",
       "&lt;/html&gt;\" style=\"position:absolute;width:100%;height:100%;left:0;top:0;border:none !important;\" allowfullscreen webkitallowfullscreen mozallowfullscreen></iframe></div></div>"
      ],
      "text/plain": [
       "<folium.folium.Map at 0x20343276f50>"
      ]
     },
     "execution_count": 49,
     "metadata": {},
     "output_type": "execute_result"
    }
   ],
   "source": [
    "folium.Map(location=address, pop_up=\"Location\").add_to(map)"
   ]
  },
  {
   "cell_type": "markdown",
   "metadata": {},
   "source": [
    "g = geocoder.ip(\"216.54.0.107\")\n",
    "address = g.latlng"
   ]
  },
  {
   "cell_type": "code",
   "execution_count": 50,
   "metadata": {},
   "outputs": [
    {
     "data": {
      "text/html": [
       "<div>\n",
       "<style scoped>\n",
       "    .dataframe tbody tr th:only-of-type {\n",
       "        vertical-align: middle;\n",
       "    }\n",
       "\n",
       "    .dataframe tbody tr th {\n",
       "        vertical-align: top;\n",
       "    }\n",
       "\n",
       "    .dataframe thead th {\n",
       "        text-align: right;\n",
       "    }\n",
       "</style>\n",
       "<table border=\"1\" class=\"dataframe\">\n",
       "  <thead>\n",
       "    <tr style=\"text-align: right;\">\n",
       "      <th></th>\n",
       "      <th>IP Address</th>\n",
       "    </tr>\n",
       "  </thead>\n",
       "  <tbody>\n",
       "    <tr>\n",
       "      <th>0</th>\n",
       "      <td>216.54.0.107</td>\n",
       "    </tr>\n",
       "    <tr>\n",
       "      <th>1</th>\n",
       "      <td>216.54.0.107</td>\n",
       "    </tr>\n",
       "    <tr>\n",
       "      <th>2</th>\n",
       "      <td>174.193.64.244</td>\n",
       "    </tr>\n",
       "    <tr>\n",
       "      <th>3</th>\n",
       "      <td>216.54.0.107</td>\n",
       "    </tr>\n",
       "    <tr>\n",
       "      <th>4</th>\n",
       "      <td>216.54.0.107</td>\n",
       "    </tr>\n",
       "  </tbody>\n",
       "</table>\n",
       "</div>"
      ],
      "text/plain": [
       "       IP Address\n",
       "0    216.54.0.107\n",
       "1    216.54.0.107\n",
       "2  174.193.64.244\n",
       "3    216.54.0.107\n",
       "4    216.54.0.107"
      ]
     },
     "execution_count": 50,
     "metadata": {},
     "output_type": "execute_result"
    }
   ],
   "source": [
    "ip_df = result[[\"IP Address\"]]\n",
    "ip_df.reset_index(inplace=True, drop=True)\n",
    "# ip_df[\"IP Address\"] = ip_df[\"IP Address\"].astype(str)\n",
    "ip_df.head()"
   ]
  },
  {
   "cell_type": "code",
   "execution_count": 51,
   "metadata": {},
   "outputs": [],
   "source": [
    "ip_df[\"location\"] = None"
   ]
  },
  {
   "cell_type": "code",
   "execution_count": 56,
   "metadata": {},
   "outputs": [
    {
     "name": "stderr",
     "output_type": "stream",
     "text": [
      "Status code 429 from http://ipinfo.io/216.54.0.107/json: ERROR - 429 Client Error: Too Many Requests for url: http://ipinfo.io/216.54.0.107/json\n",
      "Status code 429 from http://ipinfo.io/216.54.0.107/json: ERROR - 429 Client Error: Too Many Requests for url: http://ipinfo.io/216.54.0.107/json\n",
      "Status code 429 from http://ipinfo.io/174.193.64.244/json: ERROR - 429 Client Error: Too Many Requests for url: http://ipinfo.io/174.193.64.244/json\n",
      "Status code 429 from http://ipinfo.io/216.54.0.107/json: ERROR - 429 Client Error: Too Many Requests for url: http://ipinfo.io/216.54.0.107/json\n",
      "Status code 429 from http://ipinfo.io/216.54.0.107/json: ERROR - 429 Client Error: Too Many Requests for url: http://ipinfo.io/216.54.0.107/json\n",
      "Status code 429 from http://ipinfo.io/216.54.0.107/json: ERROR - 429 Client Error: Too Many Requests for url: http://ipinfo.io/216.54.0.107/json\n",
      "Status code 429 from http://ipinfo.io/216.54.0.107/json: ERROR - 429 Client Error: Too Many Requests for url: http://ipinfo.io/216.54.0.107/json\n",
      "Status code 429 from http://ipinfo.io/104.28.78.154/json: ERROR - 429 Client Error: Too Many Requests for url: http://ipinfo.io/104.28.78.154/json\n",
      "Status code 429 from http://ipinfo.io/103.219.222.197/json: ERROR - 429 Client Error: Too Many Requests for url: http://ipinfo.io/103.219.222.197/json\n",
      "Status code 429 from http://ipinfo.io/103.219.222.197/json: ERROR - 429 Client Error: Too Many Requests for url: http://ipinfo.io/103.219.222.197/json\n",
      "Status code 429 from http://ipinfo.io/103.219.222.197/json: ERROR - 429 Client Error: Too Many Requests for url: http://ipinfo.io/103.219.222.197/json\n",
      "Status code 429 from http://ipinfo.io/103.219.222.197/json: ERROR - 429 Client Error: Too Many Requests for url: http://ipinfo.io/103.219.222.197/json\n",
      "Status code 429 from http://ipinfo.io/216.54.0.107/json: ERROR - 429 Client Error: Too Many Requests for url: http://ipinfo.io/216.54.0.107/json\n",
      "Status code 429 from http://ipinfo.io/103.219.222.197/json: ERROR - 429 Client Error: Too Many Requests for url: http://ipinfo.io/103.219.222.197/json\n",
      "Status code 429 from http://ipinfo.io/204.111.238.26/json: ERROR - 429 Client Error: Too Many Requests for url: http://ipinfo.io/204.111.238.26/json\n",
      "Status code 429 from http://ipinfo.io/216.54.0.107/json: ERROR - 429 Client Error: Too Many Requests for url: http://ipinfo.io/216.54.0.107/json\n",
      "Status code 429 from http://ipinfo.io/216.54.0.107/json: ERROR - 429 Client Error: Too Many Requests for url: http://ipinfo.io/216.54.0.107/json\n",
      "Status code 429 from http://ipinfo.io/24.248.26.6/json: ERROR - 429 Client Error: Too Many Requests for url: http://ipinfo.io/24.248.26.6/json\n",
      "Status code 429 from http://ipinfo.io/103.219.222.197/json: ERROR - 429 Client Error: Too Many Requests for url: http://ipinfo.io/103.219.222.197/json\n",
      "Status code 429 from http://ipinfo.io/103.219.222.197/json: ERROR - 429 Client Error: Too Many Requests for url: http://ipinfo.io/103.219.222.197/json\n",
      "Status code 429 from http://ipinfo.io/103.219.222.197/json: ERROR - 429 Client Error: Too Many Requests for url: http://ipinfo.io/103.219.222.197/json\n",
      "Status code 429 from http://ipinfo.io/103.219.222.197/json: ERROR - 429 Client Error: Too Many Requests for url: http://ipinfo.io/103.219.222.197/json\n",
      "Status code 429 from http://ipinfo.io/103.219.222.197/json: ERROR - 429 Client Error: Too Many Requests for url: http://ipinfo.io/103.219.222.197/json\n",
      "Status code 429 from http://ipinfo.io/216.54.19.210/json: ERROR - 429 Client Error: Too Many Requests for url: http://ipinfo.io/216.54.19.210/json\n",
      "Status code 429 from http://ipinfo.io/70.169.7.177/json: ERROR - 429 Client Error: Too Many Requests for url: http://ipinfo.io/70.169.7.177/json\n",
      "Status code 429 from http://ipinfo.io/24.248.26.6/json: ERROR - 429 Client Error: Too Many Requests for url: http://ipinfo.io/24.248.26.6/json\n",
      "Status code 429 from http://ipinfo.io/103.219.222.197/json: ERROR - 429 Client Error: Too Many Requests for url: http://ipinfo.io/103.219.222.197/json\n",
      "Status code 429 from http://ipinfo.io/98.166.85.86/json: ERROR - 429 Client Error: Too Many Requests for url: http://ipinfo.io/98.166.85.86/json\n",
      "Status code 429 from http://ipinfo.io/103.219.222.197/json: ERROR - 429 Client Error: Too Many Requests for url: http://ipinfo.io/103.219.222.197/json\n",
      "Status code 429 from http://ipinfo.io/103.219.222.197/json: ERROR - 429 Client Error: Too Many Requests for url: http://ipinfo.io/103.219.222.197/json\n",
      "Status code 429 from http://ipinfo.io/174.77.92.162/json: ERROR - 429 Client Error: Too Many Requests for url: http://ipinfo.io/174.77.92.162/json\n",
      "Status code 429 from http://ipinfo.io/184.183.69.219/json: ERROR - 429 Client Error: Too Many Requests for url: http://ipinfo.io/184.183.69.219/json\n",
      "Status code 429 from http://ipinfo.io/103.219.222.197/json: ERROR - 429 Client Error: Too Many Requests for url: http://ipinfo.io/103.219.222.197/json\n",
      "Status code 429 from http://ipinfo.io/103.219.222.197/json: ERROR - 429 Client Error: Too Many Requests for url: http://ipinfo.io/103.219.222.197/json\n",
      "Status code 429 from http://ipinfo.io/174.206.103.226/json: ERROR - 429 Client Error: Too Many Requests for url: http://ipinfo.io/174.206.103.226/json\n",
      "Status code 429 from http://ipinfo.io/24.248.26.6/json: ERROR - 429 Client Error: Too Many Requests for url: http://ipinfo.io/24.248.26.6/json\n",
      "Status code 429 from http://ipinfo.io/103.219.222.197/json: ERROR - 429 Client Error: Too Many Requests for url: http://ipinfo.io/103.219.222.197/json\n",
      "Status code 429 from http://ipinfo.io/103.219.222.197/json: ERROR - 429 Client Error: Too Many Requests for url: http://ipinfo.io/103.219.222.197/json\n",
      "Status code 429 from http://ipinfo.io/68.13.212.139/json: ERROR - 429 Client Error: Too Many Requests for url: http://ipinfo.io/68.13.212.139/json\n",
      "Status code 429 from http://ipinfo.io/103.219.222.197/json: ERROR - 429 Client Error: Too Many Requests for url: http://ipinfo.io/103.219.222.197/json\n",
      "Status code 429 from http://ipinfo.io/68.96.15.104/json: ERROR - 429 Client Error: Too Many Requests for url: http://ipinfo.io/68.96.15.104/json\n",
      "Status code 429 from http://ipinfo.io/103.219.222.197/json: ERROR - 429 Client Error: Too Many Requests for url: http://ipinfo.io/103.219.222.197/json\n",
      "Status code 429 from http://ipinfo.io/68.106.180.1/json: ERROR - 429 Client Error: Too Many Requests for url: http://ipinfo.io/68.106.180.1/json\n",
      "Status code 429 from http://ipinfo.io/103.219.222.197/json: ERROR - 429 Client Error: Too Many Requests for url: http://ipinfo.io/103.219.222.197/json\n",
      "Status code 429 from http://ipinfo.io/174.219.78.176/json: ERROR - 429 Client Error: Too Many Requests for url: http://ipinfo.io/174.219.78.176/json\n",
      "Status code 429 from http://ipinfo.io/68.106.177.244/json: ERROR - 429 Client Error: Too Many Requests for url: http://ipinfo.io/68.106.177.244/json\n",
      "Status code 429 from http://ipinfo.io/72.218.176.155/json: ERROR - 429 Client Error: Too Many Requests for url: http://ipinfo.io/72.218.176.155/json\n",
      "Status code 429 from http://ipinfo.io/68.229.125.156/json: ERROR - 429 Client Error: Too Many Requests for url: http://ipinfo.io/68.229.125.156/json\n",
      "Status code 429 from http://ipinfo.io/70.186.213.160/json: ERROR - 429 Client Error: Too Many Requests for url: http://ipinfo.io/70.186.213.160/json\n",
      "Status code 429 from http://ipinfo.io/174.193.71.69/json: ERROR - 429 Client Error: Too Many Requests for url: http://ipinfo.io/174.193.71.69/json\n",
      "Status code 429 from http://ipinfo.io/68.13.207.189/json: ERROR - 429 Client Error: Too Many Requests for url: http://ipinfo.io/68.13.207.189/json\n",
      "Status code 429 from http://ipinfo.io/47.134.80.6/json: ERROR - 429 Client Error: Too Many Requests for url: http://ipinfo.io/47.134.80.6/json\n",
      "Status code 429 from http://ipinfo.io/184.183.69.219/json: ERROR - 429 Client Error: Too Many Requests for url: http://ipinfo.io/184.183.69.219/json\n",
      "Status code 429 from http://ipinfo.io/174.206.103.142/json: ERROR - 429 Client Error: Too Many Requests for url: http://ipinfo.io/174.206.103.142/json\n",
      "Status code 429 from http://ipinfo.io/24.248.26.6/json: ERROR - 429 Client Error: Too Many Requests for url: http://ipinfo.io/24.248.26.6/json\n",
      "Status code 429 from http://ipinfo.io/68.131.26.95/json: ERROR - 429 Client Error: Too Many Requests for url: http://ipinfo.io/68.131.26.95/json\n",
      "Status code 429 from http://ipinfo.io/103.219.222.197/json: ERROR - 429 Client Error: Too Many Requests for url: http://ipinfo.io/103.219.222.197/json\n",
      "Status code 429 from http://ipinfo.io/70.168.210.119/json: ERROR - 429 Client Error: Too Many Requests for url: http://ipinfo.io/70.168.210.119/json\n",
      "Status code 429 from http://ipinfo.io/70.168.210.119/json: ERROR - 429 Client Error: Too Many Requests for url: http://ipinfo.io/70.168.210.119/json\n",
      "Status code 429 from http://ipinfo.io/70.168.210.119/json: ERROR - 429 Client Error: Too Many Requests for url: http://ipinfo.io/70.168.210.119/json\n",
      "Status code 429 from http://ipinfo.io/70.168.210.119/json: ERROR - 429 Client Error: Too Many Requests for url: http://ipinfo.io/70.168.210.119/json\n",
      "Status code 429 from http://ipinfo.io/96.249.250.40/json: ERROR - 429 Client Error: Too Many Requests for url: http://ipinfo.io/96.249.250.40/json\n",
      "Status code 429 from http://ipinfo.io/103.219.222.197/json: ERROR - 429 Client Error: Too Many Requests for url: http://ipinfo.io/103.219.222.197/json\n",
      "Status code 429 from http://ipinfo.io/72.214.91.239/json: ERROR - 429 Client Error: Too Many Requests for url: http://ipinfo.io/72.214.91.239/json\n",
      "Status code 429 from http://ipinfo.io/184.183.69.219/json: ERROR - 429 Client Error: Too Many Requests for url: http://ipinfo.io/184.183.69.219/json\n",
      "Status code 429 from http://ipinfo.io/70.168.210.119/json: ERROR - 429 Client Error: Too Many Requests for url: http://ipinfo.io/70.168.210.119/json\n",
      "Status code 429 from http://ipinfo.io/72.214.91.239/json: ERROR - 429 Client Error: Too Many Requests for url: http://ipinfo.io/72.214.91.239/json\n",
      "Status code 429 from http://ipinfo.io/72.214.91.239/json: ERROR - 429 Client Error: Too Many Requests for url: http://ipinfo.io/72.214.91.239/json\n",
      "Status code 429 from http://ipinfo.io/70.168.210.119/json: ERROR - 429 Client Error: Too Many Requests for url: http://ipinfo.io/70.168.210.119/json\n",
      "Status code 429 from http://ipinfo.io/70.168.210.119/json: ERROR - 429 Client Error: Too Many Requests for url: http://ipinfo.io/70.168.210.119/json\n",
      "Status code 429 from http://ipinfo.io/72.214.91.239/json: ERROR - 429 Client Error: Too Many Requests for url: http://ipinfo.io/72.214.91.239/json\n",
      "Status code 429 from http://ipinfo.io/72.218.185.149/json: ERROR - 429 Client Error: Too Many Requests for url: http://ipinfo.io/72.218.185.149/json\n",
      "Status code 429 from http://ipinfo.io/103.219.222.197/json: ERROR - 429 Client Error: Too Many Requests for url: http://ipinfo.io/103.219.222.197/json\n",
      "Status code 429 from http://ipinfo.io/184.183.69.219/json: ERROR - 429 Client Error: Too Many Requests for url: http://ipinfo.io/184.183.69.219/json\n",
      "Status code 429 from http://ipinfo.io/73.31.64.81/json: ERROR - 429 Client Error: Too Many Requests for url: http://ipinfo.io/73.31.64.81/json\n",
      "Status code 429 from http://ipinfo.io/68.131.15.26/json: ERROR - 429 Client Error: Too Many Requests for url: http://ipinfo.io/68.131.15.26/json\n",
      "Status code 429 from http://ipinfo.io/70.184.183.58/json: ERROR - 429 Client Error: Too Many Requests for url: http://ipinfo.io/70.184.183.58/json\n",
      "Status code 429 from http://ipinfo.io/103.219.222.197/json: ERROR - 429 Client Error: Too Many Requests for url: http://ipinfo.io/103.219.222.197/json\n",
      "Status code 429 from http://ipinfo.io/184.183.69.219/json: ERROR - 429 Client Error: Too Many Requests for url: http://ipinfo.io/184.183.69.219/json\n",
      "Status code 429 from http://ipinfo.io/184.183.69.219/json: ERROR - 429 Client Error: Too Many Requests for url: http://ipinfo.io/184.183.69.219/json\n",
      "Status code 429 from http://ipinfo.io/103.219.222.197/json: ERROR - 429 Client Error: Too Many Requests for url: http://ipinfo.io/103.219.222.197/json\n",
      "Status code 429 from http://ipinfo.io/70.160.103.56/json: ERROR - 429 Client Error: Too Many Requests for url: http://ipinfo.io/70.160.103.56/json\n",
      "Status code 429 from http://ipinfo.io/98.166.200.167/json: ERROR - 429 Client Error: Too Many Requests for url: http://ipinfo.io/98.166.200.167/json\n",
      "Status code 429 from http://ipinfo.io/68.99.96.89/json: ERROR - 429 Client Error: Too Many Requests for url: http://ipinfo.io/68.99.96.89/json\n",
      "Status code 429 from http://ipinfo.io/184.183.69.219/json: ERROR - 429 Client Error: Too Many Requests for url: http://ipinfo.io/184.183.69.219/json\n",
      "Status code 429 from http://ipinfo.io/72.218.188.159/json: ERROR - 429 Client Error: Too Many Requests for url: http://ipinfo.io/72.218.188.159/json\n",
      "Status code 429 from http://ipinfo.io/184.183.69.219/json: ERROR - 429 Client Error: Too Many Requests for url: http://ipinfo.io/184.183.69.219/json\n",
      "Status code 429 from http://ipinfo.io/70.168.215.93/json: ERROR - 429 Client Error: Too Many Requests for url: http://ipinfo.io/70.168.215.93/json\n",
      "Status code 429 from http://ipinfo.io/70.169.7.177/json: ERROR - 429 Client Error: Too Many Requests for url: http://ipinfo.io/70.169.7.177/json\n",
      "Status code 429 from http://ipinfo.io/70.169.7.177/json: ERROR - 429 Client Error: Too Many Requests for url: http://ipinfo.io/70.169.7.177/json\n",
      "Status code 429 from http://ipinfo.io/184.183.69.219/json: ERROR - 429 Client Error: Too Many Requests for url: http://ipinfo.io/184.183.69.219/json\n",
      "Status code 429 from http://ipinfo.io/68.13.206.206/json: ERROR - 429 Client Error: Too Many Requests for url: http://ipinfo.io/68.13.206.206/json\n",
      "Status code 429 from http://ipinfo.io/184.183.69.219/json: ERROR - 429 Client Error: Too Many Requests for url: http://ipinfo.io/184.183.69.219/json\n",
      "Status code 429 from http://ipinfo.io/184.183.69.219/json: ERROR - 429 Client Error: Too Many Requests for url: http://ipinfo.io/184.183.69.219/json\n",
      "Status code 429 from http://ipinfo.io/70.169.7.177/json: ERROR - 429 Client Error: Too Many Requests for url: http://ipinfo.io/70.169.7.177/json\n",
      "Status code 429 from http://ipinfo.io/70.168.210.119/json: ERROR - 429 Client Error: Too Many Requests for url: http://ipinfo.io/70.168.210.119/json\n",
      "Status code 429 from http://ipinfo.io/98.166.203.128/json: ERROR - 429 Client Error: Too Many Requests for url: http://ipinfo.io/98.166.203.128/json\n",
      "Status code 429 from http://ipinfo.io/68.99.109.16/json: ERROR - 429 Client Error: Too Many Requests for url: http://ipinfo.io/68.99.109.16/json\n",
      "Status code 429 from http://ipinfo.io/184.183.69.219/json: ERROR - 429 Client Error: Too Many Requests for url: http://ipinfo.io/184.183.69.219/json\n",
      "Status code 429 from http://ipinfo.io/70.168.210.119/json: ERROR - 429 Client Error: Too Many Requests for url: http://ipinfo.io/70.168.210.119/json\n",
      "Status code 429 from http://ipinfo.io/103.219.222.197/json: ERROR - 429 Client Error: Too Many Requests for url: http://ipinfo.io/103.219.222.197/json\n",
      "Status code 429 from http://ipinfo.io/98.166.124.143/json: ERROR - 429 Client Error: Too Many Requests for url: http://ipinfo.io/98.166.124.143/json\n",
      "Status code 429 from http://ipinfo.io/103.219.222.197/json: ERROR - 429 Client Error: Too Many Requests for url: http://ipinfo.io/103.219.222.197/json\n",
      "Status code 429 from http://ipinfo.io/103.219.222.197/json: ERROR - 429 Client Error: Too Many Requests for url: http://ipinfo.io/103.219.222.197/json\n",
      "Status code 429 from http://ipinfo.io/103.219.222.197/json: ERROR - 429 Client Error: Too Many Requests for url: http://ipinfo.io/103.219.222.197/json\n",
      "Status code 429 from http://ipinfo.io/103.219.222.197/json: ERROR - 429 Client Error: Too Many Requests for url: http://ipinfo.io/103.219.222.197/json\n",
      "Status code 429 from http://ipinfo.io/103.219.222.197/json: ERROR - 429 Client Error: Too Many Requests for url: http://ipinfo.io/103.219.222.197/json\n",
      "Status code 429 from http://ipinfo.io/103.219.222.197/json: ERROR - 429 Client Error: Too Many Requests for url: http://ipinfo.io/103.219.222.197/json\n",
      "Status code 429 from http://ipinfo.io/103.219.222.197/json: ERROR - 429 Client Error: Too Many Requests for url: http://ipinfo.io/103.219.222.197/json\n",
      "Status code 429 from http://ipinfo.io/174.193.64.209/json: ERROR - 429 Client Error: Too Many Requests for url: http://ipinfo.io/174.193.64.209/json\n",
      "Status code 429 from http://ipinfo.io/103.219.222.197/json: ERROR - 429 Client Error: Too Many Requests for url: http://ipinfo.io/103.219.222.197/json\n",
      "Status code 429 from http://ipinfo.io/68.10.152.52/json: ERROR - 429 Client Error: Too Many Requests for url: http://ipinfo.io/68.10.152.52/json\n",
      "Status code 429 from http://ipinfo.io/103.219.222.197/json: ERROR - 429 Client Error: Too Many Requests for url: http://ipinfo.io/103.219.222.197/json\n",
      "Status code 429 from http://ipinfo.io/103.219.222.197/json: ERROR - 429 Client Error: Too Many Requests for url: http://ipinfo.io/103.219.222.197/json\n",
      "Status code 429 from http://ipinfo.io/71.120.179.21/json: ERROR - 429 Client Error: Too Many Requests for url: http://ipinfo.io/71.120.179.21/json\n",
      "Status code 429 from http://ipinfo.io/103.219.222.197/json: ERROR - 429 Client Error: Too Many Requests for url: http://ipinfo.io/103.219.222.197/json\n",
      "Status code 429 from http://ipinfo.io/73.86.223.230/json: ERROR - 429 Client Error: Too Many Requests for url: http://ipinfo.io/73.86.223.230/json\n",
      "Status code 429 from http://ipinfo.io/68.131.29.203/json: ERROR - 429 Client Error: Too Many Requests for url: http://ipinfo.io/68.131.29.203/json\n",
      "Status code 429 from http://ipinfo.io/24.248.26.6/json: ERROR - 429 Client Error: Too Many Requests for url: http://ipinfo.io/24.248.26.6/json\n",
      "Status code 429 from http://ipinfo.io/24.248.26.6/json: ERROR - 429 Client Error: Too Many Requests for url: http://ipinfo.io/24.248.26.6/json\n",
      "Status code 429 from http://ipinfo.io/68.13.213.55/json: ERROR - 429 Client Error: Too Many Requests for url: http://ipinfo.io/68.13.213.55/json\n",
      "Status code 429 from http://ipinfo.io/172.59.219.236/json: ERROR - 429 Client Error: Too Many Requests for url: http://ipinfo.io/172.59.219.236/json\n",
      "Status code 429 from http://ipinfo.io/108.147.2.132/json: ERROR - 429 Client Error: Too Many Requests for url: http://ipinfo.io/108.147.2.132/json\n",
      "Status code 429 from http://ipinfo.io/24.248.26.6/json: ERROR - 429 Client Error: Too Many Requests for url: http://ipinfo.io/24.248.26.6/json\n",
      "Status code 429 from http://ipinfo.io/70.177.229.7/json: ERROR - 429 Client Error: Too Many Requests for url: http://ipinfo.io/70.177.229.7/json\n",
      "Status code 429 from http://ipinfo.io/24.248.26.6/json: ERROR - 429 Client Error: Too Many Requests for url: http://ipinfo.io/24.248.26.6/json\n",
      "Status code 429 from http://ipinfo.io/24.248.26.6/json: ERROR - 429 Client Error: Too Many Requests for url: http://ipinfo.io/24.248.26.6/json\n",
      "Status code 429 from http://ipinfo.io/24.248.26.6/json: ERROR - 429 Client Error: Too Many Requests for url: http://ipinfo.io/24.248.26.6/json\n",
      "Status code 429 from http://ipinfo.io/70.184.183.58/json: ERROR - 429 Client Error: Too Many Requests for url: http://ipinfo.io/70.184.183.58/json\n",
      "Status code 429 from http://ipinfo.io/184.183.69.219/json: ERROR - 429 Client Error: Too Many Requests for url: http://ipinfo.io/184.183.69.219/json\n",
      "Status code 429 from http://ipinfo.io/70.160.99.117/json: ERROR - 429 Client Error: Too Many Requests for url: http://ipinfo.io/70.160.99.117/json\n",
      "Status code 429 from http://ipinfo.io/98.183.249.250/json: ERROR - 429 Client Error: Too Many Requests for url: http://ipinfo.io/98.183.249.250/json\n",
      "Status code 429 from http://ipinfo.io/68.229.124.251/json: ERROR - 429 Client Error: Too Many Requests for url: http://ipinfo.io/68.229.124.251/json\n",
      "Status code 429 from http://ipinfo.io/72.212.168.200/json: ERROR - 429 Client Error: Too Many Requests for url: http://ipinfo.io/72.212.168.200/json\n",
      "Status code 429 from http://ipinfo.io/68.229.124.234/json: ERROR - 429 Client Error: Too Many Requests for url: http://ipinfo.io/68.229.124.234/json\n",
      "Status code 429 from http://ipinfo.io/184.183.69.219/json: ERROR - 429 Client Error: Too Many Requests for url: http://ipinfo.io/184.183.69.219/json\n",
      "Status code 429 from http://ipinfo.io/98.166.203.245/json: ERROR - 429 Client Error: Too Many Requests for url: http://ipinfo.io/98.166.203.245/json\n",
      "Status code 429 from http://ipinfo.io/68.106.181.140/json: ERROR - 429 Client Error: Too Many Requests for url: http://ipinfo.io/68.106.181.140/json\n",
      "Status code 429 from http://ipinfo.io/68.10.155.112/json: ERROR - 429 Client Error: Too Many Requests for url: http://ipinfo.io/68.10.155.112/json\n",
      "Status code 429 from http://ipinfo.io/70.161.32.189/json: ERROR - 429 Client Error: Too Many Requests for url: http://ipinfo.io/70.161.32.189/json\n",
      "Status code 429 from http://ipinfo.io/70.186.213.72/json: ERROR - 429 Client Error: Too Many Requests for url: http://ipinfo.io/70.186.213.72/json\n",
      "Status code 429 from http://ipinfo.io/184.183.69.219/json: ERROR - 429 Client Error: Too Many Requests for url: http://ipinfo.io/184.183.69.219/json\n",
      "Status code 429 from http://ipinfo.io/70.160.34.133/json: ERROR - 429 Client Error: Too Many Requests for url: http://ipinfo.io/70.160.34.133/json\n",
      "Status code 429 from http://ipinfo.io/70.160.214.76/json: ERROR - 429 Client Error: Too Many Requests for url: http://ipinfo.io/70.160.214.76/json\n",
      "Status code 429 from http://ipinfo.io/184.183.69.219/json: ERROR - 429 Client Error: Too Many Requests for url: http://ipinfo.io/184.183.69.219/json\n",
      "Status code 429 from http://ipinfo.io/72.218.50.25/json: ERROR - 429 Client Error: Too Many Requests for url: http://ipinfo.io/72.218.50.25/json\n",
      "Status code 429 from http://ipinfo.io/70.168.210.119/json: ERROR - 429 Client Error: Too Many Requests for url: http://ipinfo.io/70.168.210.119/json\n",
      "Status code 429 from http://ipinfo.io/184.183.69.219/json: ERROR - 429 Client Error: Too Many Requests for url: http://ipinfo.io/184.183.69.219/json\n",
      "Status code 429 from http://ipinfo.io/72.212.168.200/json: ERROR - 429 Client Error: Too Many Requests for url: http://ipinfo.io/72.212.168.200/json\n",
      "Status code 429 from http://ipinfo.io/174.206.100.234/json: ERROR - 429 Client Error: Too Many Requests for url: http://ipinfo.io/174.206.100.234/json\n",
      "Status code 429 from http://ipinfo.io/68.0.29.123/json: ERROR - 429 Client Error: Too Many Requests for url: http://ipinfo.io/68.0.29.123/json\n",
      "Status code 429 from http://ipinfo.io/184.183.69.219/json: ERROR - 429 Client Error: Too Many Requests for url: http://ipinfo.io/184.183.69.219/json\n",
      "Status code 429 from http://ipinfo.io/184.183.69.219/json: ERROR - 429 Client Error: Too Many Requests for url: http://ipinfo.io/184.183.69.219/json\n",
      "Status code 429 from http://ipinfo.io/70.168.210.119/json: ERROR - 429 Client Error: Too Many Requests for url: http://ipinfo.io/70.168.210.119/json\n",
      "Status code 429 from http://ipinfo.io/184.183.69.219/json: ERROR - 429 Client Error: Too Many Requests for url: http://ipinfo.io/184.183.69.219/json\n",
      "Status code 429 from http://ipinfo.io/98.166.244.111/json: ERROR - 429 Client Error: Too Many Requests for url: http://ipinfo.io/98.166.244.111/json\n",
      "Status code 429 from http://ipinfo.io/98.166.49.237/json: ERROR - 429 Client Error: Too Many Requests for url: http://ipinfo.io/98.166.49.237/json\n",
      "Status code 429 from http://ipinfo.io/174.193.92.225/json: ERROR - 429 Client Error: Too Many Requests for url: http://ipinfo.io/174.193.92.225/json\n",
      "Status code 429 from http://ipinfo.io/70.160.101.76/json: ERROR - 429 Client Error: Too Many Requests for url: http://ipinfo.io/70.160.101.76/json\n",
      "Status code 429 from http://ipinfo.io/184.183.69.219/json: ERROR - 429 Client Error: Too Many Requests for url: http://ipinfo.io/184.183.69.219/json\n",
      "Status code 429 from http://ipinfo.io/72.212.168.200/json: ERROR - 429 Client Error: Too Many Requests for url: http://ipinfo.io/72.212.168.200/json\n",
      "Status code 429 from http://ipinfo.io/184.183.69.219/json: ERROR - 429 Client Error: Too Many Requests for url: http://ipinfo.io/184.183.69.219/json\n",
      "Status code 429 from http://ipinfo.io/184.183.69.219/json: ERROR - 429 Client Error: Too Many Requests for url: http://ipinfo.io/184.183.69.219/json\n",
      "Status code 429 from http://ipinfo.io/98.166.81.124/json: ERROR - 429 Client Error: Too Many Requests for url: http://ipinfo.io/98.166.81.124/json\n",
      "Status code 429 from http://ipinfo.io/68.98.247.57/json: ERROR - 429 Client Error: Too Many Requests for url: http://ipinfo.io/68.98.247.57/json\n",
      "Status code 429 from http://ipinfo.io/174.206.88.130/json: ERROR - 429 Client Error: Too Many Requests for url: http://ipinfo.io/174.206.88.130/json\n",
      "Status code 429 from http://ipinfo.io/100.4.64.229/json: ERROR - 429 Client Error: Too Many Requests for url: http://ipinfo.io/100.4.64.229/json\n",
      "Status code 429 from http://ipinfo.io/68.131.100.43/json: ERROR - 429 Client Error: Too Many Requests for url: http://ipinfo.io/68.131.100.43/json\n",
      "Status code 429 from http://ipinfo.io/68.13.207.186/json: ERROR - 429 Client Error: Too Many Requests for url: http://ipinfo.io/68.13.207.186/json\n",
      "Status code 429 from http://ipinfo.io/68.10.104.61/json: ERROR - 429 Client Error: Too Many Requests for url: http://ipinfo.io/68.10.104.61/json\n",
      "Status code 429 from http://ipinfo.io/174.206.98.146/json: ERROR - 429 Client Error: Too Many Requests for url: http://ipinfo.io/174.206.98.146/json\n",
      "Status code 429 from http://ipinfo.io/70.184.183.58/json: ERROR - 429 Client Error: Too Many Requests for url: http://ipinfo.io/70.184.183.58/json\n",
      "Status code 429 from http://ipinfo.io/68.13.207.116/json: ERROR - 429 Client Error: Too Many Requests for url: http://ipinfo.io/68.13.207.116/json\n",
      "Status code 429 from http://ipinfo.io/68.229.124.215/json: ERROR - 429 Client Error: Too Many Requests for url: http://ipinfo.io/68.229.124.215/json\n",
      "Status code 429 from http://ipinfo.io/174.73.68.139/json: ERROR - 429 Client Error: Too Many Requests for url: http://ipinfo.io/174.73.68.139/json\n",
      "Status code 429 from http://ipinfo.io/68.99.110.155/json: ERROR - 429 Client Error: Too Many Requests for url: http://ipinfo.io/68.99.110.155/json\n",
      "Status code 429 from http://ipinfo.io/98.190.243.88/json: ERROR - 429 Client Error: Too Many Requests for url: http://ipinfo.io/98.190.243.88/json\n",
      "Status code 429 from http://ipinfo.io/161.69.57.11/json: ERROR - 429 Client Error: Too Many Requests for url: http://ipinfo.io/161.69.57.11/json\n",
      "Status code 429 from http://ipinfo.io/161.69.57.11/json: ERROR - 429 Client Error: Too Many Requests for url: http://ipinfo.io/161.69.57.11/json\n",
      "Status code 429 from http://ipinfo.io/161.69.57.11/json: ERROR - 429 Client Error: Too Many Requests for url: http://ipinfo.io/161.69.57.11/json\n",
      "Status code 429 from http://ipinfo.io/161.69.57.11/json: ERROR - 429 Client Error: Too Many Requests for url: http://ipinfo.io/161.69.57.11/json\n",
      "Status code 429 from http://ipinfo.io/173.71.152.25/json: ERROR - 429 Client Error: Too Many Requests for url: http://ipinfo.io/173.71.152.25/json\n",
      "Status code 429 from http://ipinfo.io/161.69.114.13/json: ERROR - 429 Client Error: Too Many Requests for url: http://ipinfo.io/161.69.114.13/json\n",
      "Status code 429 from http://ipinfo.io/166.67.255.242/json: ERROR - 429 Client Error: Too Many Requests for url: http://ipinfo.io/166.67.255.242/json\n",
      "Status code 429 from http://ipinfo.io/161.69.57.11/json: ERROR - 429 Client Error: Too Many Requests for url: http://ipinfo.io/161.69.57.11/json\n",
      "Status code 429 from http://ipinfo.io/161.69.57.11/json: ERROR - 429 Client Error: Too Many Requests for url: http://ipinfo.io/161.69.57.11/json\n",
      "Status code 429 from http://ipinfo.io/161.69.57.11/json: ERROR - 429 Client Error: Too Many Requests for url: http://ipinfo.io/161.69.57.11/json\n",
      "Status code 429 from http://ipinfo.io/161.69.57.11/json: ERROR - 429 Client Error: Too Many Requests for url: http://ipinfo.io/161.69.57.11/json\n",
      "Status code 429 from http://ipinfo.io/161.69.57.11/json: ERROR - 429 Client Error: Too Many Requests for url: http://ipinfo.io/161.69.57.11/json\n",
      "Status code 429 from http://ipinfo.io/161.69.57.11/json: ERROR - 429 Client Error: Too Many Requests for url: http://ipinfo.io/161.69.57.11/json\n",
      "Status code 429 from http://ipinfo.io/161.69.57.11/json: ERROR - 429 Client Error: Too Many Requests for url: http://ipinfo.io/161.69.57.11/json\n",
      "Status code 429 from http://ipinfo.io/161.69.57.11/json: ERROR - 429 Client Error: Too Many Requests for url: http://ipinfo.io/161.69.57.11/json\n",
      "Status code 429 from http://ipinfo.io/161.69.57.11/json: ERROR - 429 Client Error: Too Many Requests for url: http://ipinfo.io/161.69.57.11/json\n",
      "Status code 429 from http://ipinfo.io/161.69.57.11/json: ERROR - 429 Client Error: Too Many Requests for url: http://ipinfo.io/161.69.57.11/json\n",
      "Status code 429 from http://ipinfo.io/161.69.57.11/json: ERROR - 429 Client Error: Too Many Requests for url: http://ipinfo.io/161.69.57.11/json\n",
      "Status code 429 from http://ipinfo.io/161.69.57.11/json: ERROR - 429 Client Error: Too Many Requests for url: http://ipinfo.io/161.69.57.11/json\n",
      "Status code 429 from http://ipinfo.io/161.69.57.11/json: ERROR - 429 Client Error: Too Many Requests for url: http://ipinfo.io/161.69.57.11/json\n",
      "Status code 429 from http://ipinfo.io/161.69.57.11/json: ERROR - 429 Client Error: Too Many Requests for url: http://ipinfo.io/161.69.57.11/json\n",
      "Status code 429 from http://ipinfo.io/166.67.255.243/json: ERROR - 429 Client Error: Too Many Requests for url: http://ipinfo.io/166.67.255.243/json\n",
      "Status code 429 from http://ipinfo.io/166.67.255.247/json: ERROR - 429 Client Error: Too Many Requests for url: http://ipinfo.io/166.67.255.247/json\n",
      "Status code 429 from http://ipinfo.io/161.69.57.11/json: ERROR - 429 Client Error: Too Many Requests for url: http://ipinfo.io/161.69.57.11/json\n",
      "Status code 429 from http://ipinfo.io/161.69.57.11/json: ERROR - 429 Client Error: Too Many Requests for url: http://ipinfo.io/161.69.57.11/json\n",
      "Status code 429 from http://ipinfo.io/161.69.57.11/json: ERROR - 429 Client Error: Too Many Requests for url: http://ipinfo.io/161.69.57.11/json\n",
      "Status code 429 from http://ipinfo.io/166.67.255.242/json: ERROR - 429 Client Error: Too Many Requests for url: http://ipinfo.io/166.67.255.242/json\n"
     ]
    },
    {
     "data": {
      "text/html": [
       "<div>\n",
       "<style scoped>\n",
       "    .dataframe tbody tr th:only-of-type {\n",
       "        vertical-align: middle;\n",
       "    }\n",
       "\n",
       "    .dataframe tbody tr th {\n",
       "        vertical-align: top;\n",
       "    }\n",
       "\n",
       "    .dataframe thead th {\n",
       "        text-align: right;\n",
       "    }\n",
       "</style>\n",
       "<table border=\"1\" class=\"dataframe\">\n",
       "  <thead>\n",
       "    <tr style=\"text-align: right;\">\n",
       "      <th></th>\n",
       "      <th>IP Address</th>\n",
       "      <th>location</th>\n",
       "    </tr>\n",
       "  </thead>\n",
       "  <tbody>\n",
       "    <tr>\n",
       "      <th>0</th>\n",
       "      <td>216.54.0.107</td>\n",
       "      <td></td>\n",
       "    </tr>\n",
       "    <tr>\n",
       "      <th>1</th>\n",
       "      <td>216.54.0.107</td>\n",
       "      <td></td>\n",
       "    </tr>\n",
       "    <tr>\n",
       "      <th>2</th>\n",
       "      <td>174.193.64.244</td>\n",
       "      <td></td>\n",
       "    </tr>\n",
       "    <tr>\n",
       "      <th>3</th>\n",
       "      <td>216.54.0.107</td>\n",
       "      <td></td>\n",
       "    </tr>\n",
       "    <tr>\n",
       "      <th>4</th>\n",
       "      <td>216.54.0.107</td>\n",
       "      <td></td>\n",
       "    </tr>\n",
       "  </tbody>\n",
       "</table>\n",
       "</div>"
      ],
      "text/plain": [
       "       IP Address location\n",
       "0    216.54.0.107         \n",
       "1    216.54.0.107         \n",
       "2  174.193.64.244         \n",
       "3    216.54.0.107         \n",
       "4    216.54.0.107         "
      ]
     },
     "execution_count": 56,
     "metadata": {},
     "output_type": "execute_result"
    }
   ],
   "source": [
    "geo_address = None\n",
    "geo_string = \"\"\n",
    "for i in range(len(ip_df)):\n",
    "    geo_address = geocoder.ipinfo(ip_df.loc[i][\"IP Address\"])\n",
    "    geo_string = \",\".join(str(address) for address in geo_address)\n",
    "    ip_df.loc[i, \"location\"]= geo_string\n",
    "ip_df.head(5)"
   ]
  },
  {
   "cell_type": "code",
   "execution_count": null,
   "metadata": {},
   "outputs": [],
   "source": []
  }
 ],
 "metadata": {
  "kernelspec": {
   "display_name": "Python 3",
   "language": "python",
   "name": "python3"
  },
  "language_info": {
   "codemirror_mode": {
    "name": "ipython",
    "version": 3
   },
   "file_extension": ".py",
   "mimetype": "text/x-python",
   "name": "python",
   "nbconvert_exporter": "python",
   "pygments_lexer": "ipython3",
   "version": "3.11.9"
  }
 },
 "nbformat": 4,
 "nbformat_minor": 2
}
